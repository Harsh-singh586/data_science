{
 "cells": [
  {
   "cell_type": "code",
   "execution_count": 8,
   "id": "bb1c55e0",
   "metadata": {
    "tags": []
   },
   "outputs": [],
   "source": [
    "import pandas as pd\n",
    "df = pd.read_excel(\"Data/Run Times.xlsx\")"
   ]
  },
  {
   "cell_type": "code",
   "execution_count": 9,
   "id": "855b3cc9",
   "metadata": {
    "tags": []
   },
   "outputs": [
    {
     "data": {
      "text/html": [
       "<div>\n",
       "<style scoped>\n",
       "    .dataframe tbody tr th:only-of-type {\n",
       "        vertical-align: middle;\n",
       "    }\n",
       "\n",
       "    .dataframe tbody tr th {\n",
       "        vertical-align: top;\n",
       "    }\n",
       "\n",
       "    .dataframe thead th {\n",
       "        text-align: right;\n",
       "    }\n",
       "</style>\n",
       "<table border=\"1\" class=\"dataframe\">\n",
       "  <thead>\n",
       "    <tr style=\"text-align: right;\">\n",
       "      <th></th>\n",
       "      <th>Name</th>\n",
       "      <th>Run Time</th>\n",
       "      <th>Warm Up Time</th>\n",
       "      <th>Location</th>\n",
       "      <th>Run Date</th>\n",
       "      <th>Race Date</th>\n",
       "      <th>Rain</th>\n",
       "      <th>Fee</th>\n",
       "    </tr>\n",
       "  </thead>\n",
       "  <tbody>\n",
       "    <tr>\n",
       "      <th>0</th>\n",
       "      <td>Alexis</td>\n",
       "      <td>9.2343</td>\n",
       "      <td>3.5</td>\n",
       "      <td>“school”</td>\n",
       "      <td>2023-04-15 12:00:00</td>\n",
       "      <td>2023-06-01</td>\n",
       "      <td>False</td>\n",
       "      <td>$0.00</td>\n",
       "    </tr>\n",
       "    <tr>\n",
       "      <th>1</th>\n",
       "      <td>Alexis</td>\n",
       "      <td>10.3842</td>\n",
       "      <td>3.5</td>\n",
       "      <td>School</td>\n",
       "      <td>2023-04-22 12:30:00</td>\n",
       "      <td>2023-06-01</td>\n",
       "      <td>True</td>\n",
       "      <td>$0.00</td>\n",
       "    </tr>\n",
       "    <tr>\n",
       "      <th>2</th>\n",
       "      <td>Alexis</td>\n",
       "      <td>8.1209</td>\n",
       "      <td>3 min</td>\n",
       "      <td>“the gym”</td>\n",
       "      <td>2023-05-10 15:00:00</td>\n",
       "      <td>2023-06-01</td>\n",
       "      <td>False</td>\n",
       "      <td>$2.50</td>\n",
       "    </tr>\n",
       "    <tr>\n",
       "      <th>3</th>\n",
       "      <td>David</td>\n",
       "      <td>7.2123</td>\n",
       "      <td>2.2</td>\n",
       "      <td>“school”</td>\n",
       "      <td>2023-05-01 15:15:00</td>\n",
       "      <td>2023-06-15</td>\n",
       "      <td>False</td>\n",
       "      <td>$0.00</td>\n",
       "    </tr>\n",
       "    <tr>\n",
       "      <th>4</th>\n",
       "      <td>David</td>\n",
       "      <td>6.8342</td>\n",
       "      <td>2</td>\n",
       "      <td>“gym”</td>\n",
       "      <td>2023-05-10 16:30:00</td>\n",
       "      <td>2023-06-15</td>\n",
       "      <td>False</td>\n",
       "      <td>$2.50</td>\n",
       "    </tr>\n",
       "  </tbody>\n",
       "</table>\n",
       "</div>"
      ],
      "text/plain": [
       "     Name  Run Time Warm Up Time   Location            Run Date  Race Date  \\\n",
       "0  Alexis    9.2343          3.5   “school” 2023-04-15 12:00:00 2023-06-01   \n",
       "1  Alexis   10.3842          3.5     School 2023-04-22 12:30:00 2023-06-01   \n",
       "2  Alexis    8.1209        3 min  “the gym” 2023-05-10 15:00:00 2023-06-01   \n",
       "3   David    7.2123          2.2   “school” 2023-05-01 15:15:00 2023-06-15   \n",
       "4   David    6.8342            2      “gym” 2023-05-10 16:30:00 2023-06-15   \n",
       "\n",
       "    Rain    Fee  \n",
       "0  False  $0.00  \n",
       "1   True  $0.00  \n",
       "2  False  $2.50  \n",
       "3  False  $0.00  \n",
       "4  False  $2.50  "
      ]
     },
     "execution_count": 9,
     "metadata": {},
     "output_type": "execute_result"
    }
   ],
   "source": [
    "df.head()"
   ]
  },
  {
   "cell_type": "code",
   "execution_count": 10,
   "id": "55c1d0f8-05be-4294-b4ce-ad67f7e569a3",
   "metadata": {
    "tags": []
   },
   "outputs": [
    {
     "data": {
      "text/plain": [
       "Name                    object\n",
       "Run Time               float64\n",
       "Warm Up Time            object\n",
       "Location                object\n",
       "Run Date        datetime64[ns]\n",
       "Race Date       datetime64[ns]\n",
       "Rain                      bool\n",
       "Fee                     object\n",
       "dtype: object"
      ]
     },
     "execution_count": 10,
     "metadata": {},
     "output_type": "execute_result"
    }
   ],
   "source": [
    "df.dtypes"
   ]
  },
  {
   "cell_type": "code",
   "execution_count": 11,
   "id": "d738b7ae-3116-4733-98e6-564f6ed61698",
   "metadata": {
    "tags": []
   },
   "outputs": [],
   "source": [
    "df.Fee = pd.to_numeric(df.Fee.str.replace('$', '', regex=True))"
   ]
  },
  {
   "cell_type": "code",
   "execution_count": 12,
   "id": "f0a0c36d-fa83-43c0-ad1a-73aa8ac04676",
   "metadata": {
    "tags": []
   },
   "outputs": [
    {
     "data": {
      "text/plain": [
       "Name                    object\n",
       "Run Time               float64\n",
       "Warm Up Time            object\n",
       "Location                object\n",
       "Run Date        datetime64[ns]\n",
       "Race Date       datetime64[ns]\n",
       "Rain                      bool\n",
       "Fee                    float64\n",
       "dtype: object"
      ]
     },
     "execution_count": 12,
     "metadata": {},
     "output_type": "execute_result"
    }
   ],
   "source": [
    "df.dtypes"
   ]
  },
  {
   "cell_type": "code",
   "execution_count": 13,
   "id": "e8b52990-8e53-40c4-824f-3bf67e428929",
   "metadata": {
    "tags": []
   },
   "outputs": [],
   "source": [
    "df[\"Warm Up Time\"] = pd.to_numeric(df['Warm Up Time'].astype('str').str.replace('min', \"\"))"
   ]
  },
  {
   "cell_type": "code",
   "execution_count": 14,
   "id": "b6739429-30d7-4d6c-949e-47f77b09a318",
   "metadata": {
    "tags": []
   },
   "outputs": [
    {
     "data": {
      "text/plain": [
       "Name                    object\n",
       "Run Time               float64\n",
       "Warm Up Time           float64\n",
       "Location                object\n",
       "Run Date        datetime64[ns]\n",
       "Race Date       datetime64[ns]\n",
       "Rain                      bool\n",
       "Fee                    float64\n",
       "dtype: object"
      ]
     },
     "execution_count": 14,
     "metadata": {},
     "output_type": "execute_result"
    }
   ],
   "source": [
    "df.dtypes"
   ]
  },
  {
   "cell_type": "code",
   "execution_count": 15,
   "id": "deca18a8-dd1c-4a72-ac31-b199e9c780b0",
   "metadata": {
    "tags": []
   },
   "outputs": [],
   "source": [
    "df.Rain = df.Rain.astype('int')"
   ]
  },
  {
   "cell_type": "code",
   "execution_count": 16,
   "id": "cd213388-b973-4d47-adfc-b57b4ffc1407",
   "metadata": {
    "tags": []
   },
   "outputs": [
    {
     "data": {
      "text/html": [
       "<div>\n",
       "<style scoped>\n",
       "    .dataframe tbody tr th:only-of-type {\n",
       "        vertical-align: middle;\n",
       "    }\n",
       "\n",
       "    .dataframe tbody tr th {\n",
       "        vertical-align: top;\n",
       "    }\n",
       "\n",
       "    .dataframe thead th {\n",
       "        text-align: right;\n",
       "    }\n",
       "</style>\n",
       "<table border=\"1\" class=\"dataframe\">\n",
       "  <thead>\n",
       "    <tr style=\"text-align: right;\">\n",
       "      <th></th>\n",
       "      <th>Name</th>\n",
       "      <th>Run Time</th>\n",
       "      <th>Warm Up Time</th>\n",
       "      <th>Location</th>\n",
       "      <th>Run Date</th>\n",
       "      <th>Race Date</th>\n",
       "      <th>Rain</th>\n",
       "      <th>Fee</th>\n",
       "    </tr>\n",
       "  </thead>\n",
       "  <tbody>\n",
       "    <tr>\n",
       "      <th>0</th>\n",
       "      <td>Alexis</td>\n",
       "      <td>9.2343</td>\n",
       "      <td>3.5</td>\n",
       "      <td>“school”</td>\n",
       "      <td>2023-04-15 12:00:00</td>\n",
       "      <td>2023-06-01</td>\n",
       "      <td>0</td>\n",
       "      <td>0.0</td>\n",
       "    </tr>\n",
       "    <tr>\n",
       "      <th>1</th>\n",
       "      <td>Alexis</td>\n",
       "      <td>10.3842</td>\n",
       "      <td>3.5</td>\n",
       "      <td>School</td>\n",
       "      <td>2023-04-22 12:30:00</td>\n",
       "      <td>2023-06-01</td>\n",
       "      <td>1</td>\n",
       "      <td>0.0</td>\n",
       "    </tr>\n",
       "    <tr>\n",
       "      <th>2</th>\n",
       "      <td>Alexis</td>\n",
       "      <td>8.1209</td>\n",
       "      <td>3.0</td>\n",
       "      <td>“the gym”</td>\n",
       "      <td>2023-05-10 15:00:00</td>\n",
       "      <td>2023-06-01</td>\n",
       "      <td>0</td>\n",
       "      <td>2.5</td>\n",
       "    </tr>\n",
       "    <tr>\n",
       "      <th>3</th>\n",
       "      <td>David</td>\n",
       "      <td>7.2123</td>\n",
       "      <td>2.2</td>\n",
       "      <td>“school”</td>\n",
       "      <td>2023-05-01 15:15:00</td>\n",
       "      <td>2023-06-15</td>\n",
       "      <td>0</td>\n",
       "      <td>0.0</td>\n",
       "    </tr>\n",
       "    <tr>\n",
       "      <th>4</th>\n",
       "      <td>David</td>\n",
       "      <td>6.8342</td>\n",
       "      <td>2.0</td>\n",
       "      <td>“gym”</td>\n",
       "      <td>2023-05-10 16:30:00</td>\n",
       "      <td>2023-06-15</td>\n",
       "      <td>0</td>\n",
       "      <td>2.5</td>\n",
       "    </tr>\n",
       "  </tbody>\n",
       "</table>\n",
       "</div>"
      ],
      "text/plain": [
       "     Name  Run Time  Warm Up Time   Location            Run Date  Race Date  \\\n",
       "0  Alexis    9.2343           3.5   “school” 2023-04-15 12:00:00 2023-06-01   \n",
       "1  Alexis   10.3842           3.5     School 2023-04-22 12:30:00 2023-06-01   \n",
       "2  Alexis    8.1209           3.0  “the gym” 2023-05-10 15:00:00 2023-06-01   \n",
       "3   David    7.2123           2.2   “school” 2023-05-01 15:15:00 2023-06-15   \n",
       "4   David    6.8342           2.0      “gym” 2023-05-10 16:30:00 2023-06-15   \n",
       "\n",
       "   Rain  Fee  \n",
       "0     0  0.0  \n",
       "1     1  0.0  \n",
       "2     0  2.5  \n",
       "3     0  0.0  \n",
       "4     0  2.5  "
      ]
     },
     "execution_count": 16,
     "metadata": {},
     "output_type": "execute_result"
    }
   ],
   "source": [
    "df"
   ]
  },
  {
   "cell_type": "markdown",
   "id": "86744a54-128c-4df0-8c87-7fbe3f1db3a4",
   "metadata": {},
   "source": [
    "## Missing Data"
   ]
  },
  {
   "cell_type": "code",
   "execution_count": 17,
   "id": "7b635ff1-f841-452f-99e0-f107bebdb1c8",
   "metadata": {
    "tags": []
   },
   "outputs": [],
   "source": [
    "df = pd.read_excel(\"Data/Student Grades.xlsx\")"
   ]
  },
  {
   "cell_type": "code",
   "execution_count": null,
   "id": "417cb669-deb3-4ab8-adb1-f7f66339ecd1",
   "metadata": {
    "tags": []
   },
   "outputs": [],
   "source": []
  },
  {
   "cell_type": "code",
   "execution_count": 18,
   "id": "6112e8d1-351d-40e9-a8f9-19a92a4a2023",
   "metadata": {
    "tags": []
   },
   "outputs": [
    {
     "data": {
      "text/plain": [
       "Student     object\n",
       "Class       object\n",
       "Year        object\n",
       "Grade      float64\n",
       "dtype: object"
      ]
     },
     "execution_count": 18,
     "metadata": {},
     "output_type": "execute_result"
    }
   ],
   "source": [
    "df.dtypes"
   ]
  },
  {
   "cell_type": "code",
   "execution_count": null,
   "id": "f5c7888c-2b44-48ff-9165-ee7a544d3d05",
   "metadata": {
    "tags": []
   },
   "outputs": [],
   "source": []
  },
  {
   "cell_type": "code",
   "execution_count": 19,
   "id": "acaf9271-70b4-41b2-b498-6ad192375a51",
   "metadata": {
    "tags": []
   },
   "outputs": [
    {
     "name": "stdout",
     "output_type": "stream",
     "text": [
      "<class 'pandas.core.frame.DataFrame'>\n",
      "RangeIndex: 86 entries, 0 to 85\n",
      "Data columns (total 4 columns):\n",
      " #   Column   Non-Null Count  Dtype  \n",
      "---  ------   --------------  -----  \n",
      " 0   Student  84 non-null     object \n",
      " 1   Class    83 non-null     object \n",
      " 2   Year     80 non-null     object \n",
      " 3   Grade    82 non-null     float64\n",
      "dtypes: float64(1), object(3)\n",
      "memory usage: 2.8+ KB\n"
     ]
    }
   ],
   "source": [
    "df.info()"
   ]
  },
  {
   "cell_type": "code",
   "execution_count": 20,
   "id": "3890c351-1cb4-474a-aecf-077b1a2561e9",
   "metadata": {
    "tags": []
   },
   "outputs": [
    {
     "data": {
      "text/plain": [
       "Freshman     35\n",
       "Sophomore    24\n",
       "Junior       20\n",
       "NaN           6\n",
       "Senior        1\n",
       "Name: Year, dtype: int64"
      ]
     },
     "execution_count": 20,
     "metadata": {},
     "output_type": "execute_result"
    }
   ],
   "source": [
    "df.Year.value_counts(dropna=False)"
   ]
  },
  {
   "cell_type": "code",
   "execution_count": 21,
   "id": "39c1df3a-b9f5-4a5e-8ca3-f28b330d9c15",
   "metadata": {
    "tags": []
   },
   "outputs": [
    {
     "data": {
      "text/plain": [
       "(86, 4)"
      ]
     },
     "execution_count": 21,
     "metadata": {},
     "output_type": "execute_result"
    }
   ],
   "source": [
    "df.shape"
   ]
  },
  {
   "cell_type": "code",
   "execution_count": 22,
   "id": "51ce9bcb-e95b-4d11-8353-4b02dad7faf1",
   "metadata": {
    "tags": []
   },
   "outputs": [],
   "source": [
    "#df.isna().any(axis=1)"
   ]
  },
  {
   "cell_type": "markdown",
   "id": "00e88d60-388f-4eae-8edf-c85e4f06509a",
   "metadata": {},
   "source": [
    "## Handling Missing Data"
   ]
  },
  {
   "cell_type": "code",
   "execution_count": 23,
   "id": "7f7e4fba-3584-44a1-8803-c747ca396083",
   "metadata": {
    "tags": []
   },
   "outputs": [],
   "source": [
    "# keeping, remove row with na, "
   ]
  },
  {
   "cell_type": "code",
   "execution_count": 24,
   "id": "f3af0598-a085-46b2-83fa-5d429618b313",
   "metadata": {
    "tags": []
   },
   "outputs": [],
   "source": [
    "# Remove na"
   ]
  },
  {
   "cell_type": "code",
   "execution_count": 25,
   "id": "c0a4c4c3-9483-4172-ba08-3ee9ec478d47",
   "metadata": {
    "tags": []
   },
   "outputs": [],
   "source": [
    "# how=all\n",
    "# thresh = 2 (remove row that dont have atleat n values)\n",
    "# subset=['Column Name'] -- removes Na value in specific col\n",
    "# df[df[\"City\"]] notna -- return every values that has not null"
   ]
  },
  {
   "cell_type": "code",
   "execution_count": 26,
   "id": "77d8fe83-656e-4e59-bdb1-ff21ca67b9f0",
   "metadata": {
    "tags": []
   },
   "outputs": [
    {
     "data": {
      "text/plain": [
       "(86, 4)"
      ]
     },
     "execution_count": 26,
     "metadata": {},
     "output_type": "execute_result"
    }
   ],
   "source": [
    "df.shape"
   ]
  },
  {
   "cell_type": "code",
   "execution_count": 27,
   "id": "dabf8b6b-3933-40a3-899b-22e835a11839",
   "metadata": {
    "tags": []
   },
   "outputs": [],
   "source": [
    "#df.dropna(subset=['Student', 'Class'])"
   ]
  },
  {
   "cell_type": "code",
   "execution_count": 28,
   "id": "a08afca3-1e94-49fa-ba31-87bb8f6452dd",
   "metadata": {
    "tags": []
   },
   "outputs": [
    {
     "data": {
      "text/plain": [
       "Intro to Python              25\n",
       "Intro to SQL                 20\n",
       "EDA                          13\n",
       "Freshman Seminar             12\n",
       "Exploratory Data Analysis    12\n",
       "NaN                           3\n",
       "Python                        1\n",
       "Name: Class, dtype: int64"
      ]
     },
     "execution_count": 28,
     "metadata": {},
     "output_type": "execute_result"
    }
   ],
   "source": [
    "df.Class.value_counts(dropna=False)"
   ]
  },
  {
   "cell_type": "code",
   "execution_count": 29,
   "id": "05c34e3e-0508-4da6-9f17-f5874dccf7c6",
   "metadata": {
    "tags": []
   },
   "outputs": [],
   "source": [
    "df.dropna(subset=['Student', \"Class\"], inplace=True)"
   ]
  },
  {
   "cell_type": "code",
   "execution_count": 30,
   "id": "b06659be-8f94-4b6c-9041-a13b098bc489",
   "metadata": {
    "tags": []
   },
   "outputs": [
    {
     "name": "stdout",
     "output_type": "stream",
     "text": [
      "<class 'pandas.core.frame.DataFrame'>\n",
      "Int64Index: 82 entries, 0 to 84\n",
      "Data columns (total 4 columns):\n",
      " #   Column   Non-Null Count  Dtype  \n",
      "---  ------   --------------  -----  \n",
      " 0   Student  82 non-null     object \n",
      " 1   Class    82 non-null     object \n",
      " 2   Year     79 non-null     object \n",
      " 3   Grade    80 non-null     float64\n",
      "dtypes: float64(1), object(3)\n",
      "memory usage: 3.2+ KB\n"
     ]
    }
   ],
   "source": [
    "df.info()"
   ]
  },
  {
   "cell_type": "code",
   "execution_count": 31,
   "id": "e81024ad-b889-45cc-990a-dffd1cda3e13",
   "metadata": {
    "tags": []
   },
   "outputs": [
    {
     "data": {
      "text/plain": [
       "(82, 4)"
      ]
     },
     "execution_count": 31,
     "metadata": {},
     "output_type": "execute_result"
    }
   ],
   "source": [
    "df.shape"
   ]
  },
  {
   "cell_type": "code",
   "execution_count": 32,
   "id": "553388e8-ecc1-4f1a-b7b3-0af52f2f46d8",
   "metadata": {
    "tags": []
   },
   "outputs": [],
   "source": [
    "# imputing missing data"
   ]
  },
  {
   "cell_type": "code",
   "execution_count": 33,
   "id": "2fd88001-7e31-4dc9-9946-17d42ae6dca1",
   "metadata": {
    "tags": []
   },
   "outputs": [
    {
     "data": {
      "text/html": [
       "<div>\n",
       "<style scoped>\n",
       "    .dataframe tbody tr th:only-of-type {\n",
       "        vertical-align: middle;\n",
       "    }\n",
       "\n",
       "    .dataframe tbody tr th {\n",
       "        vertical-align: top;\n",
       "    }\n",
       "\n",
       "    .dataframe thead th {\n",
       "        text-align: right;\n",
       "    }\n",
       "</style>\n",
       "<table border=\"1\" class=\"dataframe\">\n",
       "  <thead>\n",
       "    <tr style=\"text-align: right;\">\n",
       "      <th></th>\n",
       "      <th>Student</th>\n",
       "      <th>Class</th>\n",
       "      <th>Year</th>\n",
       "      <th>Grade</th>\n",
       "    </tr>\n",
       "  </thead>\n",
       "  <tbody>\n",
       "    <tr>\n",
       "      <th>62</th>\n",
       "      <td>Landon</td>\n",
       "      <td>Exploratory Data Analysis</td>\n",
       "      <td>Junior</td>\n",
       "      <td>NaN</td>\n",
       "    </tr>\n",
       "    <tr>\n",
       "      <th>84</th>\n",
       "      <td>Gavin</td>\n",
       "      <td>EDA</td>\n",
       "      <td>Senior</td>\n",
       "      <td>NaN</td>\n",
       "    </tr>\n",
       "  </tbody>\n",
       "</table>\n",
       "</div>"
      ],
      "text/plain": [
       "   Student                      Class    Year  Grade\n",
       "62  Landon  Exploratory Data Analysis  Junior    NaN\n",
       "84   Gavin                        EDA  Senior    NaN"
      ]
     },
     "execution_count": 33,
     "metadata": {},
     "output_type": "execute_result"
    }
   ],
   "source": [
    "df[df.Grade.isna()]"
   ]
  },
  {
   "cell_type": "code",
   "execution_count": 34,
   "id": "b4c3b37d-4a2a-4953-90af-fb7656bfd457",
   "metadata": {
    "tags": []
   },
   "outputs": [],
   "source": [
    "df.Grade.fillna(df.Grade.mean(), inplace=True)"
   ]
  },
  {
   "cell_type": "code",
   "execution_count": 35,
   "id": "d4a69ea0-2abd-4a63-9955-606d2c627be4",
   "metadata": {
    "tags": []
   },
   "outputs": [
    {
     "data": {
      "text/html": [
       "<div>\n",
       "<style scoped>\n",
       "    .dataframe tbody tr th:only-of-type {\n",
       "        vertical-align: middle;\n",
       "    }\n",
       "\n",
       "    .dataframe tbody tr th {\n",
       "        vertical-align: top;\n",
       "    }\n",
       "\n",
       "    .dataframe thead th {\n",
       "        text-align: right;\n",
       "    }\n",
       "</style>\n",
       "<table border=\"1\" class=\"dataframe\">\n",
       "  <thead>\n",
       "    <tr style=\"text-align: right;\">\n",
       "      <th></th>\n",
       "      <th>Student</th>\n",
       "      <th>Class</th>\n",
       "      <th>Year</th>\n",
       "      <th>Grade</th>\n",
       "    </tr>\n",
       "  </thead>\n",
       "  <tbody>\n",
       "    <tr>\n",
       "      <th>0</th>\n",
       "      <td>Emma</td>\n",
       "      <td>Freshman Seminar</td>\n",
       "      <td>Freshman</td>\n",
       "      <td>86.00</td>\n",
       "    </tr>\n",
       "    <tr>\n",
       "      <th>1</th>\n",
       "      <td>Olivia</td>\n",
       "      <td>Freshman Seminar</td>\n",
       "      <td>Freshman</td>\n",
       "      <td>86.00</td>\n",
       "    </tr>\n",
       "    <tr>\n",
       "      <th>2</th>\n",
       "      <td>Noah</td>\n",
       "      <td>Freshman Seminar</td>\n",
       "      <td>Freshman</td>\n",
       "      <td>86.00</td>\n",
       "    </tr>\n",
       "    <tr>\n",
       "      <th>3</th>\n",
       "      <td>Sophia</td>\n",
       "      <td>Freshman Seminar</td>\n",
       "      <td>Freshman</td>\n",
       "      <td>87.00</td>\n",
       "    </tr>\n",
       "    <tr>\n",
       "      <th>4</th>\n",
       "      <td>Liam</td>\n",
       "      <td>Freshman Seminar</td>\n",
       "      <td>Freshman</td>\n",
       "      <td>90.00</td>\n",
       "    </tr>\n",
       "    <tr>\n",
       "      <th>...</th>\n",
       "      <td>...</td>\n",
       "      <td>...</td>\n",
       "      <td>...</td>\n",
       "      <td>...</td>\n",
       "    </tr>\n",
       "    <tr>\n",
       "      <th>77</th>\n",
       "      <td>Aaron</td>\n",
       "      <td>EDA</td>\n",
       "      <td>Junior</td>\n",
       "      <td>85.00</td>\n",
       "    </tr>\n",
       "    <tr>\n",
       "      <th>78</th>\n",
       "      <td>Charles</td>\n",
       "      <td>EDA</td>\n",
       "      <td>Junior</td>\n",
       "      <td>93.00</td>\n",
       "    </tr>\n",
       "    <tr>\n",
       "      <th>79</th>\n",
       "      <td>Connor</td>\n",
       "      <td>EDA</td>\n",
       "      <td>Junior</td>\n",
       "      <td>91.00</td>\n",
       "    </tr>\n",
       "    <tr>\n",
       "      <th>80</th>\n",
       "      <td>Riley</td>\n",
       "      <td>EDA</td>\n",
       "      <td>Junior</td>\n",
       "      <td>87.00</td>\n",
       "    </tr>\n",
       "    <tr>\n",
       "      <th>84</th>\n",
       "      <td>Gavin</td>\n",
       "      <td>EDA</td>\n",
       "      <td>Senior</td>\n",
       "      <td>85.55</td>\n",
       "    </tr>\n",
       "  </tbody>\n",
       "</table>\n",
       "<p>82 rows × 4 columns</p>\n",
       "</div>"
      ],
      "text/plain": [
       "    Student             Class      Year  Grade\n",
       "0      Emma  Freshman Seminar  Freshman  86.00\n",
       "1    Olivia  Freshman Seminar  Freshman  86.00\n",
       "2      Noah  Freshman Seminar  Freshman  86.00\n",
       "3    Sophia  Freshman Seminar  Freshman  87.00\n",
       "4      Liam  Freshman Seminar  Freshman  90.00\n",
       "..      ...               ...       ...    ...\n",
       "77    Aaron               EDA    Junior  85.00\n",
       "78  Charles               EDA    Junior  93.00\n",
       "79   Connor               EDA    Junior  91.00\n",
       "80    Riley               EDA    Junior  87.00\n",
       "84    Gavin               EDA    Senior  85.55\n",
       "\n",
       "[82 rows x 4 columns]"
      ]
     },
     "execution_count": 35,
     "metadata": {},
     "output_type": "execute_result"
    }
   ],
   "source": [
    "df"
   ]
  },
  {
   "cell_type": "code",
   "execution_count": 36,
   "id": "6614b9de-14d6-4412-9cf9-393793bf3252",
   "metadata": {
    "tags": []
   },
   "outputs": [
    {
     "data": {
      "text/html": [
       "<div>\n",
       "<style scoped>\n",
       "    .dataframe tbody tr th:only-of-type {\n",
       "        vertical-align: middle;\n",
       "    }\n",
       "\n",
       "    .dataframe tbody tr th {\n",
       "        vertical-align: top;\n",
       "    }\n",
       "\n",
       "    .dataframe thead th {\n",
       "        text-align: right;\n",
       "    }\n",
       "</style>\n",
       "<table border=\"1\" class=\"dataframe\">\n",
       "  <thead>\n",
       "    <tr style=\"text-align: right;\">\n",
       "      <th></th>\n",
       "      <th>Student</th>\n",
       "      <th>Class</th>\n",
       "      <th>Year</th>\n",
       "      <th>Grade</th>\n",
       "    </tr>\n",
       "  </thead>\n",
       "  <tbody>\n",
       "    <tr>\n",
       "      <th>0</th>\n",
       "      <td>Emma</td>\n",
       "      <td>Freshman Seminar</td>\n",
       "      <td>Freshman</td>\n",
       "      <td>86.0</td>\n",
       "    </tr>\n",
       "    <tr>\n",
       "      <th>1</th>\n",
       "      <td>Olivia</td>\n",
       "      <td>Freshman Seminar</td>\n",
       "      <td>Freshman</td>\n",
       "      <td>86.0</td>\n",
       "    </tr>\n",
       "    <tr>\n",
       "      <th>2</th>\n",
       "      <td>Noah</td>\n",
       "      <td>Freshman Seminar</td>\n",
       "      <td>Freshman</td>\n",
       "      <td>86.0</td>\n",
       "    </tr>\n",
       "    <tr>\n",
       "      <th>3</th>\n",
       "      <td>Sophia</td>\n",
       "      <td>Freshman Seminar</td>\n",
       "      <td>Freshman</td>\n",
       "      <td>87.0</td>\n",
       "    </tr>\n",
       "    <tr>\n",
       "      <th>4</th>\n",
       "      <td>Liam</td>\n",
       "      <td>Freshman Seminar</td>\n",
       "      <td>Freshman</td>\n",
       "      <td>90.0</td>\n",
       "    </tr>\n",
       "    <tr>\n",
       "      <th>5</th>\n",
       "      <td>Mason</td>\n",
       "      <td>Freshman Seminar</td>\n",
       "      <td>Freshman</td>\n",
       "      <td>90.0</td>\n",
       "    </tr>\n",
       "    <tr>\n",
       "      <th>6</th>\n",
       "      <td>Isabella</td>\n",
       "      <td>Freshman Seminar</td>\n",
       "      <td>Freshman</td>\n",
       "      <td>90.0</td>\n",
       "    </tr>\n",
       "    <tr>\n",
       "      <th>7</th>\n",
       "      <td>Jacob</td>\n",
       "      <td>Freshman Seminar</td>\n",
       "      <td>NaN</td>\n",
       "      <td>88.0</td>\n",
       "    </tr>\n",
       "    <tr>\n",
       "      <th>8</th>\n",
       "      <td>William</td>\n",
       "      <td>Freshman Seminar</td>\n",
       "      <td>NaN</td>\n",
       "      <td>89.0</td>\n",
       "    </tr>\n",
       "    <tr>\n",
       "      <th>9</th>\n",
       "      <td>Ethan</td>\n",
       "      <td>Freshman Seminar</td>\n",
       "      <td>NaN</td>\n",
       "      <td>86.0</td>\n",
       "    </tr>\n",
       "    <tr>\n",
       "      <th>10</th>\n",
       "      <td>Ava</td>\n",
       "      <td>Freshman Seminar</td>\n",
       "      <td>Freshman</td>\n",
       "      <td>88.0</td>\n",
       "    </tr>\n",
       "    <tr>\n",
       "      <th>11</th>\n",
       "      <td>Michael</td>\n",
       "      <td>Freshman Seminar</td>\n",
       "      <td>Freshman</td>\n",
       "      <td>88.0</td>\n",
       "    </tr>\n",
       "  </tbody>\n",
       "</table>\n",
       "</div>"
      ],
      "text/plain": [
       "     Student             Class      Year  Grade\n",
       "0       Emma  Freshman Seminar  Freshman   86.0\n",
       "1     Olivia  Freshman Seminar  Freshman   86.0\n",
       "2       Noah  Freshman Seminar  Freshman   86.0\n",
       "3     Sophia  Freshman Seminar  Freshman   87.0\n",
       "4       Liam  Freshman Seminar  Freshman   90.0\n",
       "5      Mason  Freshman Seminar  Freshman   90.0\n",
       "6   Isabella  Freshman Seminar  Freshman   90.0\n",
       "7      Jacob  Freshman Seminar       NaN   88.0\n",
       "8    William  Freshman Seminar       NaN   89.0\n",
       "9      Ethan  Freshman Seminar       NaN   86.0\n",
       "10       Ava  Freshman Seminar  Freshman   88.0\n",
       "11   Michael  Freshman Seminar  Freshman   88.0"
      ]
     },
     "execution_count": 36,
     "metadata": {},
     "output_type": "execute_result"
    }
   ],
   "source": [
    "df[df.Class == \"Freshman Seminar\"]"
   ]
  },
  {
   "cell_type": "code",
   "execution_count": 37,
   "id": "2a074d20-b3db-485c-83bc-ca90a855886a",
   "metadata": {
    "tags": []
   },
   "outputs": [],
   "source": [
    "df.loc[7, \"Year\"] = \"Freshman\""
   ]
  },
  {
   "cell_type": "code",
   "execution_count": 38,
   "id": "7e273e28-da9c-47c5-b15c-a91ebda600aa",
   "metadata": {
    "tags": []
   },
   "outputs": [
    {
     "data": {
      "text/html": [
       "<div>\n",
       "<style scoped>\n",
       "    .dataframe tbody tr th:only-of-type {\n",
       "        vertical-align: middle;\n",
       "    }\n",
       "\n",
       "    .dataframe tbody tr th {\n",
       "        vertical-align: top;\n",
       "    }\n",
       "\n",
       "    .dataframe thead th {\n",
       "        text-align: right;\n",
       "    }\n",
       "</style>\n",
       "<table border=\"1\" class=\"dataframe\">\n",
       "  <thead>\n",
       "    <tr style=\"text-align: right;\">\n",
       "      <th></th>\n",
       "      <th>Student</th>\n",
       "      <th>Class</th>\n",
       "      <th>Year</th>\n",
       "      <th>Grade</th>\n",
       "    </tr>\n",
       "  </thead>\n",
       "  <tbody>\n",
       "    <tr>\n",
       "      <th>0</th>\n",
       "      <td>Emma</td>\n",
       "      <td>Freshman Seminar</td>\n",
       "      <td>Freshman</td>\n",
       "      <td>86.0</td>\n",
       "    </tr>\n",
       "    <tr>\n",
       "      <th>1</th>\n",
       "      <td>Olivia</td>\n",
       "      <td>Freshman Seminar</td>\n",
       "      <td>Freshman</td>\n",
       "      <td>86.0</td>\n",
       "    </tr>\n",
       "    <tr>\n",
       "      <th>2</th>\n",
       "      <td>Noah</td>\n",
       "      <td>Freshman Seminar</td>\n",
       "      <td>Freshman</td>\n",
       "      <td>86.0</td>\n",
       "    </tr>\n",
       "    <tr>\n",
       "      <th>3</th>\n",
       "      <td>Sophia</td>\n",
       "      <td>Freshman Seminar</td>\n",
       "      <td>Freshman</td>\n",
       "      <td>87.0</td>\n",
       "    </tr>\n",
       "    <tr>\n",
       "      <th>4</th>\n",
       "      <td>Liam</td>\n",
       "      <td>Freshman Seminar</td>\n",
       "      <td>Freshman</td>\n",
       "      <td>90.0</td>\n",
       "    </tr>\n",
       "    <tr>\n",
       "      <th>5</th>\n",
       "      <td>Mason</td>\n",
       "      <td>Freshman Seminar</td>\n",
       "      <td>Freshman</td>\n",
       "      <td>90.0</td>\n",
       "    </tr>\n",
       "    <tr>\n",
       "      <th>6</th>\n",
       "      <td>Isabella</td>\n",
       "      <td>Freshman Seminar</td>\n",
       "      <td>Freshman</td>\n",
       "      <td>90.0</td>\n",
       "    </tr>\n",
       "    <tr>\n",
       "      <th>7</th>\n",
       "      <td>Jacob</td>\n",
       "      <td>Freshman Seminar</td>\n",
       "      <td>Freshman</td>\n",
       "      <td>88.0</td>\n",
       "    </tr>\n",
       "    <tr>\n",
       "      <th>8</th>\n",
       "      <td>William</td>\n",
       "      <td>Freshman Seminar</td>\n",
       "      <td>NaN</td>\n",
       "      <td>89.0</td>\n",
       "    </tr>\n",
       "    <tr>\n",
       "      <th>9</th>\n",
       "      <td>Ethan</td>\n",
       "      <td>Freshman Seminar</td>\n",
       "      <td>NaN</td>\n",
       "      <td>86.0</td>\n",
       "    </tr>\n",
       "    <tr>\n",
       "      <th>10</th>\n",
       "      <td>Ava</td>\n",
       "      <td>Freshman Seminar</td>\n",
       "      <td>Freshman</td>\n",
       "      <td>88.0</td>\n",
       "    </tr>\n",
       "    <tr>\n",
       "      <th>11</th>\n",
       "      <td>Michael</td>\n",
       "      <td>Freshman Seminar</td>\n",
       "      <td>Freshman</td>\n",
       "      <td>88.0</td>\n",
       "    </tr>\n",
       "  </tbody>\n",
       "</table>\n",
       "</div>"
      ],
      "text/plain": [
       "     Student             Class      Year  Grade\n",
       "0       Emma  Freshman Seminar  Freshman   86.0\n",
       "1     Olivia  Freshman Seminar  Freshman   86.0\n",
       "2       Noah  Freshman Seminar  Freshman   86.0\n",
       "3     Sophia  Freshman Seminar  Freshman   87.0\n",
       "4       Liam  Freshman Seminar  Freshman   90.0\n",
       "5      Mason  Freshman Seminar  Freshman   90.0\n",
       "6   Isabella  Freshman Seminar  Freshman   90.0\n",
       "7      Jacob  Freshman Seminar  Freshman   88.0\n",
       "8    William  Freshman Seminar       NaN   89.0\n",
       "9      Ethan  Freshman Seminar       NaN   86.0\n",
       "10       Ava  Freshman Seminar  Freshman   88.0\n",
       "11   Michael  Freshman Seminar  Freshman   88.0"
      ]
     },
     "execution_count": 38,
     "metadata": {},
     "output_type": "execute_result"
    }
   ],
   "source": [
    "df[df.Class == \"Freshman Seminar\"]"
   ]
  },
  {
   "cell_type": "markdown",
   "id": "503b8472-45b7-4d75-8a97-730d5201836a",
   "metadata": {},
   "source": [
    "## Inconsistent Data"
   ]
  },
  {
   "cell_type": "code",
   "execution_count": 39,
   "id": "e7189e95-e2be-4fd1-b179-5aefdca1d4a0",
   "metadata": {
    "tags": []
   },
   "outputs": [
    {
     "data": {
      "text/plain": [
       "'\\n  categorical data\\n      --- value_counts\\n  numerical data \\n      ---  .describe()\\n'"
      ]
     },
     "execution_count": 39,
     "metadata": {},
     "output_type": "execute_result"
    }
   ],
   "source": [
    "'''\n",
    "  categorical data\n",
    "      --- value_counts\n",
    "  numerical data \n",
    "      ---  .describe()\n",
    "'''"
   ]
  },
  {
   "cell_type": "code",
   "execution_count": 40,
   "id": "a71a7d3a-ebe3-4cb4-9e69-9049fffeea03",
   "metadata": {
    "tags": []
   },
   "outputs": [
    {
     "data": {
      "text/html": [
       "<div>\n",
       "<style scoped>\n",
       "    .dataframe tbody tr th:only-of-type {\n",
       "        vertical-align: middle;\n",
       "    }\n",
       "\n",
       "    .dataframe tbody tr th {\n",
       "        vertical-align: top;\n",
       "    }\n",
       "\n",
       "    .dataframe thead th {\n",
       "        text-align: right;\n",
       "    }\n",
       "</style>\n",
       "<table border=\"1\" class=\"dataframe\">\n",
       "  <thead>\n",
       "    <tr style=\"text-align: right;\">\n",
       "      <th></th>\n",
       "      <th>Student</th>\n",
       "      <th>Class</th>\n",
       "      <th>Year</th>\n",
       "      <th>Grade</th>\n",
       "    </tr>\n",
       "  </thead>\n",
       "  <tbody>\n",
       "    <tr>\n",
       "      <th>0</th>\n",
       "      <td>Emma</td>\n",
       "      <td>Freshman Seminar</td>\n",
       "      <td>Freshman</td>\n",
       "      <td>86.0</td>\n",
       "    </tr>\n",
       "    <tr>\n",
       "      <th>1</th>\n",
       "      <td>Olivia</td>\n",
       "      <td>Freshman Seminar</td>\n",
       "      <td>Freshman</td>\n",
       "      <td>86.0</td>\n",
       "    </tr>\n",
       "    <tr>\n",
       "      <th>2</th>\n",
       "      <td>Noah</td>\n",
       "      <td>Freshman Seminar</td>\n",
       "      <td>Freshman</td>\n",
       "      <td>86.0</td>\n",
       "    </tr>\n",
       "    <tr>\n",
       "      <th>3</th>\n",
       "      <td>Sophia</td>\n",
       "      <td>Freshman Seminar</td>\n",
       "      <td>Freshman</td>\n",
       "      <td>87.0</td>\n",
       "    </tr>\n",
       "    <tr>\n",
       "      <th>4</th>\n",
       "      <td>Liam</td>\n",
       "      <td>Freshman Seminar</td>\n",
       "      <td>Freshman</td>\n",
       "      <td>90.0</td>\n",
       "    </tr>\n",
       "  </tbody>\n",
       "</table>\n",
       "</div>"
      ],
      "text/plain": [
       "  Student             Class      Year  Grade\n",
       "0    Emma  Freshman Seminar  Freshman   86.0\n",
       "1  Olivia  Freshman Seminar  Freshman   86.0\n",
       "2    Noah  Freshman Seminar  Freshman   86.0\n",
       "3  Sophia  Freshman Seminar  Freshman   87.0\n",
       "4    Liam  Freshman Seminar  Freshman   90.0"
      ]
     },
     "execution_count": 40,
     "metadata": {},
     "output_type": "execute_result"
    }
   ],
   "source": [
    "df.head()"
   ]
  },
  {
   "cell_type": "code",
   "execution_count": 41,
   "id": "6eb1a76e-ff48-47ea-b782-8b3962d499f4",
   "metadata": {
    "tags": []
   },
   "outputs": [
    {
     "data": {
      "text/plain": [
       "Intro to Python              25\n",
       "Intro to SQL                 20\n",
       "Freshman Seminar             12\n",
       "Exploratory Data Analysis    12\n",
       "EDA                          12\n",
       "Python                        1\n",
       "Name: Class, dtype: int64"
      ]
     },
     "execution_count": 41,
     "metadata": {},
     "output_type": "execute_result"
    }
   ],
   "source": [
    "df.Class.value_counts()"
   ]
  },
  {
   "cell_type": "code",
   "execution_count": 42,
   "id": "824396cc-3166-4ccd-b693-56c2edbcde74",
   "metadata": {
    "tags": []
   },
   "outputs": [
    {
     "data": {
      "text/html": [
       "<div>\n",
       "<style scoped>\n",
       "    .dataframe tbody tr th:only-of-type {\n",
       "        vertical-align: middle;\n",
       "    }\n",
       "\n",
       "    .dataframe tbody tr th {\n",
       "        vertical-align: top;\n",
       "    }\n",
       "\n",
       "    .dataframe thead th {\n",
       "        text-align: right;\n",
       "    }\n",
       "</style>\n",
       "<table border=\"1\" class=\"dataframe\">\n",
       "  <thead>\n",
       "    <tr style=\"text-align: right;\">\n",
       "      <th></th>\n",
       "      <th>Student</th>\n",
       "      <th>Class</th>\n",
       "      <th>Year</th>\n",
       "      <th>Grade</th>\n",
       "    </tr>\n",
       "  </thead>\n",
       "  <tbody>\n",
       "    <tr>\n",
       "      <th>58</th>\n",
       "      <td>Evelyn</td>\n",
       "      <td>Exploratory Data Analysis</td>\n",
       "      <td>Sophomore</td>\n",
       "      <td>89.00</td>\n",
       "    </tr>\n",
       "    <tr>\n",
       "      <th>59</th>\n",
       "      <td>Jack</td>\n",
       "      <td>Exploratory Data Analysis</td>\n",
       "      <td>Sophomore</td>\n",
       "      <td>84.00</td>\n",
       "    </tr>\n",
       "    <tr>\n",
       "      <th>60</th>\n",
       "      <td>Ella</td>\n",
       "      <td>Exploratory Data Analysis</td>\n",
       "      <td>Sophomore</td>\n",
       "      <td>200.00</td>\n",
       "    </tr>\n",
       "    <tr>\n",
       "      <th>61</th>\n",
       "      <td>Chloe</td>\n",
       "      <td>Exploratory Data Analysis</td>\n",
       "      <td>Sophomore</td>\n",
       "      <td>87.00</td>\n",
       "    </tr>\n",
       "    <tr>\n",
       "      <th>62</th>\n",
       "      <td>Landon</td>\n",
       "      <td>Exploratory Data Analysis</td>\n",
       "      <td>Junior</td>\n",
       "      <td>85.55</td>\n",
       "    </tr>\n",
       "    <tr>\n",
       "      <th>63</th>\n",
       "      <td>Christian</td>\n",
       "      <td>Exploratory Data Analysis</td>\n",
       "      <td>Junior</td>\n",
       "      <td>77.00</td>\n",
       "    </tr>\n",
       "    <tr>\n",
       "      <th>64</th>\n",
       "      <td>Jordan</td>\n",
       "      <td>Exploratory Data Analysis</td>\n",
       "      <td>Junior</td>\n",
       "      <td>83.00</td>\n",
       "    </tr>\n",
       "    <tr>\n",
       "      <th>65</th>\n",
       "      <td>Jonathan</td>\n",
       "      <td>Exploratory Data Analysis</td>\n",
       "      <td>Junior</td>\n",
       "      <td>82.00</td>\n",
       "    </tr>\n",
       "    <tr>\n",
       "      <th>66</th>\n",
       "      <td>Levi</td>\n",
       "      <td>Exploratory Data Analysis</td>\n",
       "      <td>Junior</td>\n",
       "      <td>91.00</td>\n",
       "    </tr>\n",
       "    <tr>\n",
       "      <th>67</th>\n",
       "      <td>Victoria</td>\n",
       "      <td>Exploratory Data Analysis</td>\n",
       "      <td>Junior</td>\n",
       "      <td>90.00</td>\n",
       "    </tr>\n",
       "    <tr>\n",
       "      <th>68</th>\n",
       "      <td>Aubrey</td>\n",
       "      <td>Exploratory Data Analysis</td>\n",
       "      <td>Junior</td>\n",
       "      <td>83.00</td>\n",
       "    </tr>\n",
       "    <tr>\n",
       "      <th>69</th>\n",
       "      <td>Jaxon</td>\n",
       "      <td>Exploratory Data Analysis</td>\n",
       "      <td>Junior</td>\n",
       "      <td>64.00</td>\n",
       "    </tr>\n",
       "    <tr>\n",
       "      <th>70</th>\n",
       "      <td>Julian</td>\n",
       "      <td>EDA</td>\n",
       "      <td>Junior</td>\n",
       "      <td>95.00</td>\n",
       "    </tr>\n",
       "    <tr>\n",
       "      <th>71</th>\n",
       "      <td>Grace</td>\n",
       "      <td>EDA</td>\n",
       "      <td>Junior</td>\n",
       "      <td>77.00</td>\n",
       "    </tr>\n",
       "    <tr>\n",
       "      <th>72</th>\n",
       "      <td>Isaiah</td>\n",
       "      <td>EDA</td>\n",
       "      <td>Junior</td>\n",
       "      <td>88.00</td>\n",
       "    </tr>\n",
       "    <tr>\n",
       "      <th>73</th>\n",
       "      <td>Cameron</td>\n",
       "      <td>EDA</td>\n",
       "      <td>Junior</td>\n",
       "      <td>72.00</td>\n",
       "    </tr>\n",
       "    <tr>\n",
       "      <th>74</th>\n",
       "      <td>Eli</td>\n",
       "      <td>EDA</td>\n",
       "      <td>Junior</td>\n",
       "      <td>92.00</td>\n",
       "    </tr>\n",
       "    <tr>\n",
       "      <th>75</th>\n",
       "      <td>Angel</td>\n",
       "      <td>EDA</td>\n",
       "      <td>Junior</td>\n",
       "      <td>79.00</td>\n",
       "    </tr>\n",
       "    <tr>\n",
       "      <th>76</th>\n",
       "      <td>Zoey</td>\n",
       "      <td>EDA</td>\n",
       "      <td>Junior</td>\n",
       "      <td>91.00</td>\n",
       "    </tr>\n",
       "    <tr>\n",
       "      <th>77</th>\n",
       "      <td>Aaron</td>\n",
       "      <td>EDA</td>\n",
       "      <td>Junior</td>\n",
       "      <td>85.00</td>\n",
       "    </tr>\n",
       "    <tr>\n",
       "      <th>78</th>\n",
       "      <td>Charles</td>\n",
       "      <td>EDA</td>\n",
       "      <td>Junior</td>\n",
       "      <td>93.00</td>\n",
       "    </tr>\n",
       "    <tr>\n",
       "      <th>79</th>\n",
       "      <td>Connor</td>\n",
       "      <td>EDA</td>\n",
       "      <td>Junior</td>\n",
       "      <td>91.00</td>\n",
       "    </tr>\n",
       "    <tr>\n",
       "      <th>80</th>\n",
       "      <td>Riley</td>\n",
       "      <td>EDA</td>\n",
       "      <td>Junior</td>\n",
       "      <td>87.00</td>\n",
       "    </tr>\n",
       "    <tr>\n",
       "      <th>84</th>\n",
       "      <td>Gavin</td>\n",
       "      <td>EDA</td>\n",
       "      <td>Senior</td>\n",
       "      <td>85.55</td>\n",
       "    </tr>\n",
       "  </tbody>\n",
       "</table>\n",
       "</div>"
      ],
      "text/plain": [
       "      Student                      Class       Year   Grade\n",
       "58     Evelyn  Exploratory Data Analysis  Sophomore   89.00\n",
       "59       Jack  Exploratory Data Analysis  Sophomore   84.00\n",
       "60       Ella  Exploratory Data Analysis  Sophomore  200.00\n",
       "61      Chloe  Exploratory Data Analysis  Sophomore   87.00\n",
       "62     Landon  Exploratory Data Analysis     Junior   85.55\n",
       "63  Christian  Exploratory Data Analysis     Junior   77.00\n",
       "64     Jordan  Exploratory Data Analysis     Junior   83.00\n",
       "65   Jonathan  Exploratory Data Analysis     Junior   82.00\n",
       "66       Levi  Exploratory Data Analysis     Junior   91.00\n",
       "67   Victoria  Exploratory Data Analysis     Junior   90.00\n",
       "68     Aubrey  Exploratory Data Analysis     Junior   83.00\n",
       "69      Jaxon  Exploratory Data Analysis     Junior   64.00\n",
       "70     Julian                        EDA     Junior   95.00\n",
       "71      Grace                        EDA     Junior   77.00\n",
       "72     Isaiah                        EDA     Junior   88.00\n",
       "73    Cameron                        EDA     Junior   72.00\n",
       "74        Eli                        EDA     Junior   92.00\n",
       "75      Angel                        EDA     Junior   79.00\n",
       "76       Zoey                        EDA     Junior   91.00\n",
       "77      Aaron                        EDA     Junior   85.00\n",
       "78    Charles                        EDA     Junior   93.00\n",
       "79     Connor                        EDA     Junior   91.00\n",
       "80      Riley                        EDA     Junior   87.00\n",
       "84      Gavin                        EDA     Senior   85.55"
      ]
     },
     "execution_count": 42,
     "metadata": {},
     "output_type": "execute_result"
    }
   ],
   "source": [
    "df[df.Class.isin([\"Exploratory Data Analysis\", \"EDA\"])]"
   ]
  },
  {
   "cell_type": "code",
   "execution_count": 43,
   "id": "c3cc87da-7fa6-4fe9-80f2-284592fce646",
   "metadata": {
    "tags": []
   },
   "outputs": [
    {
     "data": {
      "text/html": [
       "<div>\n",
       "<style scoped>\n",
       "    .dataframe tbody tr th:only-of-type {\n",
       "        vertical-align: middle;\n",
       "    }\n",
       "\n",
       "    .dataframe tbody tr th {\n",
       "        vertical-align: top;\n",
       "    }\n",
       "\n",
       "    .dataframe thead th {\n",
       "        text-align: right;\n",
       "    }\n",
       "</style>\n",
       "<table border=\"1\" class=\"dataframe\">\n",
       "  <thead>\n",
       "    <tr style=\"text-align: right;\">\n",
       "      <th></th>\n",
       "      <th>Student</th>\n",
       "      <th>Class</th>\n",
       "      <th>Year</th>\n",
       "      <th>Grade</th>\n",
       "    </tr>\n",
       "  </thead>\n",
       "  <tbody>\n",
       "    <tr>\n",
       "      <th>12</th>\n",
       "      <td>Alexander</td>\n",
       "      <td>Intro to Python</td>\n",
       "      <td>Freshman</td>\n",
       "      <td>85.0</td>\n",
       "    </tr>\n",
       "    <tr>\n",
       "      <th>13</th>\n",
       "      <td>Logan</td>\n",
       "      <td>Intro to Python</td>\n",
       "      <td>Freshman</td>\n",
       "      <td>85.0</td>\n",
       "    </tr>\n",
       "    <tr>\n",
       "      <th>14</th>\n",
       "      <td>James</td>\n",
       "      <td>Intro to Python</td>\n",
       "      <td>Freshman</td>\n",
       "      <td>82.0</td>\n",
       "    </tr>\n",
       "    <tr>\n",
       "      <th>15</th>\n",
       "      <td>Daniel</td>\n",
       "      <td>Intro to Python</td>\n",
       "      <td>Freshman</td>\n",
       "      <td>85.0</td>\n",
       "    </tr>\n",
       "    <tr>\n",
       "      <th>16</th>\n",
       "      <td>Elijah</td>\n",
       "      <td>Intro to Python</td>\n",
       "      <td>Freshman</td>\n",
       "      <td>85.0</td>\n",
       "    </tr>\n",
       "    <tr>\n",
       "      <th>17</th>\n",
       "      <td>Benjamin</td>\n",
       "      <td>Intro to Python</td>\n",
       "      <td>Freshman</td>\n",
       "      <td>81.0</td>\n",
       "    </tr>\n",
       "    <tr>\n",
       "      <th>18</th>\n",
       "      <td>Mia</td>\n",
       "      <td>Intro to Python</td>\n",
       "      <td>Freshman</td>\n",
       "      <td>80.0</td>\n",
       "    </tr>\n",
       "    <tr>\n",
       "      <th>19</th>\n",
       "      <td>Mia</td>\n",
       "      <td>Python</td>\n",
       "      <td>Freshman</td>\n",
       "      <td>80.0</td>\n",
       "    </tr>\n",
       "    <tr>\n",
       "      <th>20</th>\n",
       "      <td>Jayden</td>\n",
       "      <td>Intro to Python</td>\n",
       "      <td>Freshman</td>\n",
       "      <td>82.0</td>\n",
       "    </tr>\n",
       "    <tr>\n",
       "      <th>21</th>\n",
       "      <td>Aiden</td>\n",
       "      <td>Intro to Python</td>\n",
       "      <td>Freshman</td>\n",
       "      <td>86.0</td>\n",
       "    </tr>\n",
       "    <tr>\n",
       "      <th>22</th>\n",
       "      <td>Matthew</td>\n",
       "      <td>Intro to Python</td>\n",
       "      <td>Freshman</td>\n",
       "      <td>87.0</td>\n",
       "    </tr>\n",
       "    <tr>\n",
       "      <th>23</th>\n",
       "      <td>Emily</td>\n",
       "      <td>Intro to Python</td>\n",
       "      <td>Freshman</td>\n",
       "      <td>78.0</td>\n",
       "    </tr>\n",
       "    <tr>\n",
       "      <th>24</th>\n",
       "      <td>Jackson</td>\n",
       "      <td>Intro to Python</td>\n",
       "      <td>Freshman</td>\n",
       "      <td>88.0</td>\n",
       "    </tr>\n",
       "    <tr>\n",
       "      <th>25</th>\n",
       "      <td>Lucas</td>\n",
       "      <td>Intro to Python</td>\n",
       "      <td>Freshman</td>\n",
       "      <td>77.0</td>\n",
       "    </tr>\n",
       "    <tr>\n",
       "      <th>26</th>\n",
       "      <td>David</td>\n",
       "      <td>Intro to Python</td>\n",
       "      <td>Freshman</td>\n",
       "      <td>74.0</td>\n",
       "    </tr>\n",
       "    <tr>\n",
       "      <th>27</th>\n",
       "      <td>Joseph</td>\n",
       "      <td>Intro to Python</td>\n",
       "      <td>Freshman</td>\n",
       "      <td>93.0</td>\n",
       "    </tr>\n",
       "    <tr>\n",
       "      <th>28</th>\n",
       "      <td>Abigail</td>\n",
       "      <td>Intro to Python</td>\n",
       "      <td>Freshman</td>\n",
       "      <td>89.0</td>\n",
       "    </tr>\n",
       "    <tr>\n",
       "      <th>29</th>\n",
       "      <td>Avery</td>\n",
       "      <td>Intro to Python</td>\n",
       "      <td>Freshman</td>\n",
       "      <td>79.0</td>\n",
       "    </tr>\n",
       "    <tr>\n",
       "      <th>30</th>\n",
       "      <td>Anthony</td>\n",
       "      <td>Intro to Python</td>\n",
       "      <td>Freshman</td>\n",
       "      <td>84.0</td>\n",
       "    </tr>\n",
       "    <tr>\n",
       "      <th>31</th>\n",
       "      <td>Dylan</td>\n",
       "      <td>Intro to Python</td>\n",
       "      <td>Freshman</td>\n",
       "      <td>84.0</td>\n",
       "    </tr>\n",
       "    <tr>\n",
       "      <th>32</th>\n",
       "      <td>Andrew</td>\n",
       "      <td>Intro to Python</td>\n",
       "      <td>Freshman</td>\n",
       "      <td>94.0</td>\n",
       "    </tr>\n",
       "    <tr>\n",
       "      <th>33</th>\n",
       "      <td>Carter</td>\n",
       "      <td>Intro to Python</td>\n",
       "      <td>Freshman</td>\n",
       "      <td>95.0</td>\n",
       "    </tr>\n",
       "    <tr>\n",
       "      <th>34</th>\n",
       "      <td>Samuel</td>\n",
       "      <td>Intro to Python</td>\n",
       "      <td>Freshman</td>\n",
       "      <td>83.0</td>\n",
       "    </tr>\n",
       "    <tr>\n",
       "      <th>35</th>\n",
       "      <td>Gabriel</td>\n",
       "      <td>Intro to Python</td>\n",
       "      <td>Freshman</td>\n",
       "      <td>82.0</td>\n",
       "    </tr>\n",
       "    <tr>\n",
       "      <th>36</th>\n",
       "      <td>Joshua</td>\n",
       "      <td>Intro to Python</td>\n",
       "      <td>Freshman</td>\n",
       "      <td>71.0</td>\n",
       "    </tr>\n",
       "    <tr>\n",
       "      <th>37</th>\n",
       "      <td>John</td>\n",
       "      <td>Intro to Python</td>\n",
       "      <td>Freshman</td>\n",
       "      <td>50.0</td>\n",
       "    </tr>\n",
       "  </tbody>\n",
       "</table>\n",
       "</div>"
      ],
      "text/plain": [
       "      Student            Class      Year  Grade\n",
       "12  Alexander  Intro to Python  Freshman   85.0\n",
       "13      Logan  Intro to Python  Freshman   85.0\n",
       "14      James  Intro to Python  Freshman   82.0\n",
       "15     Daniel  Intro to Python  Freshman   85.0\n",
       "16     Elijah  Intro to Python  Freshman   85.0\n",
       "17   Benjamin  Intro to Python  Freshman   81.0\n",
       "18        Mia  Intro to Python  Freshman   80.0\n",
       "19        Mia           Python  Freshman   80.0\n",
       "20     Jayden  Intro to Python  Freshman   82.0\n",
       "21      Aiden  Intro to Python  Freshman   86.0\n",
       "22    Matthew  Intro to Python  Freshman   87.0\n",
       "23      Emily  Intro to Python  Freshman   78.0\n",
       "24    Jackson  Intro to Python  Freshman   88.0\n",
       "25      Lucas  Intro to Python  Freshman   77.0\n",
       "26      David  Intro to Python  Freshman   74.0\n",
       "27     Joseph  Intro to Python  Freshman   93.0\n",
       "28    Abigail  Intro to Python  Freshman   89.0\n",
       "29      Avery  Intro to Python  Freshman   79.0\n",
       "30    Anthony  Intro to Python  Freshman   84.0\n",
       "31      Dylan  Intro to Python  Freshman   84.0\n",
       "32     Andrew  Intro to Python  Freshman   94.0\n",
       "33     Carter  Intro to Python  Freshman   95.0\n",
       "34     Samuel  Intro to Python  Freshman   83.0\n",
       "35    Gabriel  Intro to Python  Freshman   82.0\n",
       "36     Joshua  Intro to Python  Freshman   71.0\n",
       "37       John  Intro to Python  Freshman   50.0"
      ]
     },
     "execution_count": 43,
     "metadata": {},
     "output_type": "execute_result"
    }
   ],
   "source": [
    "df[df.Class.isin([\"Intro to Python\", \"Python\"])]"
   ]
  },
  {
   "cell_type": "code",
   "execution_count": 44,
   "id": "505f010a-aea6-459c-9b4a-a9c0936e41d4",
   "metadata": {
    "tags": []
   },
   "outputs": [
    {
     "data": {
      "text/plain": [
       "Freshman     36\n",
       "Sophomore    24\n",
       "Junior       19\n",
       "Senior        1\n",
       "Name: Year, dtype: int64"
      ]
     },
     "execution_count": 44,
     "metadata": {},
     "output_type": "execute_result"
    }
   ],
   "source": [
    "df.Year.value_counts()"
   ]
  },
  {
   "cell_type": "code",
   "execution_count": 45,
   "id": "50a30c2b-d335-422e-8a8e-e030a013b2d6",
   "metadata": {
    "tags": []
   },
   "outputs": [
    {
     "data": {
      "text/plain": [
       "count     82.000000\n",
       "mean      85.550000\n",
       "std       15.443965\n",
       "min       45.000000\n",
       "25%       81.000000\n",
       "50%       85.275000\n",
       "75%       89.750000\n",
       "max      200.000000\n",
       "Name: Grade, dtype: float64"
      ]
     },
     "execution_count": 45,
     "metadata": {},
     "output_type": "execute_result"
    }
   ],
   "source": [
    "df.Grade.describe()"
   ]
  },
  {
   "cell_type": "code",
   "execution_count": 46,
   "id": "ea25b73b-6a0e-406f-8c50-7c54e9f62b16",
   "metadata": {
    "tags": []
   },
   "outputs": [
    {
     "data": {
      "text/html": [
       "<div>\n",
       "<style scoped>\n",
       "    .dataframe tbody tr th:only-of-type {\n",
       "        vertical-align: middle;\n",
       "    }\n",
       "\n",
       "    .dataframe tbody tr th {\n",
       "        vertical-align: top;\n",
       "    }\n",
       "\n",
       "    .dataframe thead th {\n",
       "        text-align: right;\n",
       "    }\n",
       "</style>\n",
       "<table border=\"1\" class=\"dataframe\">\n",
       "  <thead>\n",
       "    <tr style=\"text-align: right;\">\n",
       "      <th></th>\n",
       "      <th>Student</th>\n",
       "      <th>Class</th>\n",
       "      <th>Year</th>\n",
       "      <th>Grade</th>\n",
       "    </tr>\n",
       "  </thead>\n",
       "  <tbody>\n",
       "    <tr>\n",
       "      <th>60</th>\n",
       "      <td>Ella</td>\n",
       "      <td>Exploratory Data Analysis</td>\n",
       "      <td>Sophomore</td>\n",
       "      <td>200.0</td>\n",
       "    </tr>\n",
       "  </tbody>\n",
       "</table>\n",
       "</div>"
      ],
      "text/plain": [
       "   Student                      Class       Year  Grade\n",
       "60    Ella  Exploratory Data Analysis  Sophomore  200.0"
      ]
     },
     "execution_count": 46,
     "metadata": {},
     "output_type": "execute_result"
    }
   ],
   "source": [
    "df[df.Grade > 100]"
   ]
  },
  {
   "cell_type": "code",
   "execution_count": 47,
   "id": "910a70c6-49d3-40be-84f2-92c4fe546bdd",
   "metadata": {
    "tags": []
   },
   "outputs": [
    {
     "data": {
      "text/plain": [
       "'\\n  .loc[]\\n  np.where\\n  .map\\n  str methods\\n'"
      ]
     },
     "execution_count": 47,
     "metadata": {},
     "output_type": "execute_result"
    }
   ],
   "source": [
    "'''\n",
    "  .loc[]\n",
    "  np.where\n",
    "  .map\n",
    "  str methods\n",
    "'''"
   ]
  },
  {
   "cell_type": "code",
   "execution_count": 48,
   "id": "0bcca0ad-32fd-457a-9fca-4f992184ec53",
   "metadata": {
    "tags": []
   },
   "outputs": [],
   "source": [
    "# np.where(condition, if_true, if_false)"
   ]
  },
  {
   "cell_type": "code",
   "execution_count": 49,
   "id": "25243bdc-d822-467b-b0a8-ebc9f4b9a315",
   "metadata": {
    "tags": []
   },
   "outputs": [],
   "source": [
    "df.Class = np.where(df.Class == \"EDA\", \"Exploratory Data Analysis\", df.Class)"
   ]
  },
  {
   "cell_type": "code",
   "execution_count": 50,
   "id": "ba65d95b-15d5-4c38-9430-b64c6aa15fdd",
   "metadata": {
    "tags": []
   },
   "outputs": [
    {
     "data": {
      "text/plain": [
       "Intro to Python              25\n",
       "Exploratory Data Analysis    24\n",
       "Intro to SQL                 20\n",
       "Freshman Seminar             12\n",
       "Python                        1\n",
       "Name: Class, dtype: int64"
      ]
     },
     "execution_count": 50,
     "metadata": {},
     "output_type": "execute_result"
    }
   ],
   "source": [
    "df.Class.value_counts()"
   ]
  },
  {
   "cell_type": "code",
   "execution_count": 51,
   "id": "ba7ad345-fe8c-42b7-aff5-810efe715049",
   "metadata": {
    "tags": []
   },
   "outputs": [],
   "source": [
    "df.Class = np.where(df.Class == \"Python\", \"Intro to Python\", df.Class)"
   ]
  },
  {
   "cell_type": "code",
   "execution_count": 52,
   "id": "65260804-8863-4b95-b5bb-a4724ba198a2",
   "metadata": {
    "tags": []
   },
   "outputs": [
    {
     "data": {
      "text/plain": [
       "Intro to Python              26\n",
       "Exploratory Data Analysis    24\n",
       "Intro to SQL                 20\n",
       "Freshman Seminar             12\n",
       "Name: Class, dtype: int64"
      ]
     },
     "execution_count": 52,
     "metadata": {},
     "output_type": "execute_result"
    }
   ],
   "source": [
    "df.Class.value_counts()"
   ]
  },
  {
   "cell_type": "code",
   "execution_count": 53,
   "id": "220e403e-2310-43f4-b822-f538258147d1",
   "metadata": {
    "tags": []
   },
   "outputs": [],
   "source": [
    "df.Grade = np.where(df.Grade > 100, 100, df.Grade)"
   ]
  },
  {
   "cell_type": "code",
   "execution_count": 54,
   "id": "955a3828-95c8-4651-8ca4-08cfaadb7273",
   "metadata": {
    "tags": []
   },
   "outputs": [
    {
     "data": {
      "text/plain": [
       "count     82.000000\n",
       "mean      84.330488\n",
       "std        8.824663\n",
       "min       45.000000\n",
       "25%       81.000000\n",
       "50%       85.275000\n",
       "75%       89.750000\n",
       "max      100.000000\n",
       "Name: Grade, dtype: float64"
      ]
     },
     "execution_count": 54,
     "metadata": {},
     "output_type": "execute_result"
    }
   ],
   "source": [
    "df.Grade.describe()"
   ]
  },
  {
   "cell_type": "code",
   "execution_count": 55,
   "id": "2c2a1463-2950-47ef-9563-df1948cc0bd8",
   "metadata": {
    "tags": []
   },
   "outputs": [],
   "source": [
    "# state_mapping = {AL : AL, Alabama : AL, Ny : NY, New york : NY}\n",
    "# df.state.map(state_mapping)"
   ]
  },
  {
   "cell_type": "code",
   "execution_count": 56,
   "id": "cc12f783-3e87-4687-ab32-c25284a3ae2a",
   "metadata": {
    "tags": []
   },
   "outputs": [],
   "source": [
    "df1 = pd.read_excel(\"Data/Student Grades.xlsx\")"
   ]
  },
  {
   "cell_type": "code",
   "execution_count": 57,
   "id": "f8ec16f9-9a1a-4718-b578-9346c0b69450",
   "metadata": {
    "tags": []
   },
   "outputs": [
    {
     "data": {
      "text/html": [
       "<div>\n",
       "<style scoped>\n",
       "    .dataframe tbody tr th:only-of-type {\n",
       "        vertical-align: middle;\n",
       "    }\n",
       "\n",
       "    .dataframe tbody tr th {\n",
       "        vertical-align: top;\n",
       "    }\n",
       "\n",
       "    .dataframe thead th {\n",
       "        text-align: right;\n",
       "    }\n",
       "</style>\n",
       "<table border=\"1\" class=\"dataframe\">\n",
       "  <thead>\n",
       "    <tr style=\"text-align: right;\">\n",
       "      <th></th>\n",
       "      <th>Student</th>\n",
       "      <th>Class</th>\n",
       "      <th>Year</th>\n",
       "      <th>Grade</th>\n",
       "    </tr>\n",
       "  </thead>\n",
       "  <tbody>\n",
       "    <tr>\n",
       "      <th>0</th>\n",
       "      <td>Emma</td>\n",
       "      <td>Freshman Seminar</td>\n",
       "      <td>Freshman</td>\n",
       "      <td>86.0</td>\n",
       "    </tr>\n",
       "    <tr>\n",
       "      <th>1</th>\n",
       "      <td>Olivia</td>\n",
       "      <td>Freshman Seminar</td>\n",
       "      <td>Freshman</td>\n",
       "      <td>86.0</td>\n",
       "    </tr>\n",
       "    <tr>\n",
       "      <th>2</th>\n",
       "      <td>Noah</td>\n",
       "      <td>Freshman Seminar</td>\n",
       "      <td>Freshman</td>\n",
       "      <td>86.0</td>\n",
       "    </tr>\n",
       "    <tr>\n",
       "      <th>3</th>\n",
       "      <td>Sophia</td>\n",
       "      <td>Freshman Seminar</td>\n",
       "      <td>Freshman</td>\n",
       "      <td>87.0</td>\n",
       "    </tr>\n",
       "    <tr>\n",
       "      <th>4</th>\n",
       "      <td>Liam</td>\n",
       "      <td>Freshman Seminar</td>\n",
       "      <td>Freshman</td>\n",
       "      <td>90.0</td>\n",
       "    </tr>\n",
       "  </tbody>\n",
       "</table>\n",
       "</div>"
      ],
      "text/plain": [
       "  Student             Class      Year  Grade\n",
       "0    Emma  Freshman Seminar  Freshman   86.0\n",
       "1  Olivia  Freshman Seminar  Freshman   86.0\n",
       "2    Noah  Freshman Seminar  Freshman   86.0\n",
       "3  Sophia  Freshman Seminar  Freshman   87.0\n",
       "4    Liam  Freshman Seminar  Freshman   90.0"
      ]
     },
     "execution_count": 57,
     "metadata": {},
     "output_type": "execute_result"
    }
   ],
   "source": [
    "df1.head()"
   ]
  },
  {
   "cell_type": "code",
   "execution_count": 58,
   "id": "1c1cc980-821a-4b2c-b90d-3f929e15c7ed",
   "metadata": {
    "tags": []
   },
   "outputs": [
    {
     "data": {
      "text/plain": [
       "Intro to Python              25\n",
       "Intro to SQL                 20\n",
       "EDA                          13\n",
       "Freshman Seminar             12\n",
       "Exploratory Data Analysis    12\n",
       "NaN                           3\n",
       "Python                        1\n",
       "Name: Class, dtype: int64"
      ]
     },
     "execution_count": 58,
     "metadata": {},
     "output_type": "execute_result"
    }
   ],
   "source": [
    "df1.Class.value_counts(dropna=False)"
   ]
  },
  {
   "cell_type": "code",
   "execution_count": 59,
   "id": "86ae57ef-9f28-4bda-b3cf-f06f71884611",
   "metadata": {
    "tags": []
   },
   "outputs": [],
   "source": [
    "class_map = {\n",
    "    \"EDA\" : \"Exploratory Data Analysis\",\n",
    "    \"Exploratory Data Analysis\" : \"Exploratory Data Analysis\",\n",
    "    \"Python\" : \"Intro to Python\",\n",
    "    \"Intro to Python\" : \"Intro to Python\",\n",
    "    \"Intro to SQL\" : \"Intro to SQL\",\n",
    "    \"Freshman Seminar\" : \"Freshman Seminar\"\n",
    "}"
   ]
  },
  {
   "cell_type": "code",
   "execution_count": 60,
   "id": "7dfbeb59-8271-4a96-8764-07a1573c4eb8",
   "metadata": {
    "tags": []
   },
   "outputs": [],
   "source": [
    "df1.Class = df.Class.map(class_map)"
   ]
  },
  {
   "cell_type": "code",
   "execution_count": 61,
   "id": "5e804ad2-d148-4df3-a496-2ee1c8390371",
   "metadata": {
    "tags": []
   },
   "outputs": [
    {
     "data": {
      "text/plain": [
       "Intro to Python              26\n",
       "Exploratory Data Analysis    24\n",
       "Intro to SQL                 20\n",
       "Freshman Seminar             12\n",
       "NaN                           4\n",
       "Name: Class, dtype: int64"
      ]
     },
     "execution_count": 61,
     "metadata": {},
     "output_type": "execute_result"
    }
   ],
   "source": [
    "df1.Class.value_counts(dropna=False)"
   ]
  },
  {
   "cell_type": "code",
   "execution_count": 62,
   "id": "0600f5ef-922a-4db8-9f98-c4b992f67339",
   "metadata": {
    "tags": []
   },
   "outputs": [],
   "source": [
    "## Cleaning Text"
   ]
  },
  {
   "cell_type": "code",
   "execution_count": 63,
   "id": "6e1b86bf-a071-4e71-8567-5c83b5c33eb4",
   "metadata": {
    "tags": []
   },
   "outputs": [],
   "source": [
    "run_time_df = pd.read_excel(\"Data/Run Times.xlsx\")"
   ]
  },
  {
   "cell_type": "code",
   "execution_count": 64,
   "id": "497bed15-faeb-4245-83a6-2a2841cc1318",
   "metadata": {
    "tags": []
   },
   "outputs": [
    {
     "data": {
      "text/html": [
       "<div>\n",
       "<style scoped>\n",
       "    .dataframe tbody tr th:only-of-type {\n",
       "        vertical-align: middle;\n",
       "    }\n",
       "\n",
       "    .dataframe tbody tr th {\n",
       "        vertical-align: top;\n",
       "    }\n",
       "\n",
       "    .dataframe thead th {\n",
       "        text-align: right;\n",
       "    }\n",
       "</style>\n",
       "<table border=\"1\" class=\"dataframe\">\n",
       "  <thead>\n",
       "    <tr style=\"text-align: right;\">\n",
       "      <th></th>\n",
       "      <th>Name</th>\n",
       "      <th>Run Time</th>\n",
       "      <th>Warm Up Time</th>\n",
       "      <th>Location</th>\n",
       "      <th>Run Date</th>\n",
       "      <th>Race Date</th>\n",
       "      <th>Rain</th>\n",
       "      <th>Fee</th>\n",
       "    </tr>\n",
       "  </thead>\n",
       "  <tbody>\n",
       "    <tr>\n",
       "      <th>0</th>\n",
       "      <td>Alexis</td>\n",
       "      <td>9.2343</td>\n",
       "      <td>3.5</td>\n",
       "      <td>“school”</td>\n",
       "      <td>2023-04-15 12:00:00</td>\n",
       "      <td>2023-06-01</td>\n",
       "      <td>False</td>\n",
       "      <td>$0.00</td>\n",
       "    </tr>\n",
       "    <tr>\n",
       "      <th>1</th>\n",
       "      <td>Alexis</td>\n",
       "      <td>10.3842</td>\n",
       "      <td>3.5</td>\n",
       "      <td>School</td>\n",
       "      <td>2023-04-22 12:30:00</td>\n",
       "      <td>2023-06-01</td>\n",
       "      <td>True</td>\n",
       "      <td>$0.00</td>\n",
       "    </tr>\n",
       "    <tr>\n",
       "      <th>2</th>\n",
       "      <td>Alexis</td>\n",
       "      <td>8.1209</td>\n",
       "      <td>3 min</td>\n",
       "      <td>“the gym”</td>\n",
       "      <td>2023-05-10 15:00:00</td>\n",
       "      <td>2023-06-01</td>\n",
       "      <td>False</td>\n",
       "      <td>$2.50</td>\n",
       "    </tr>\n",
       "    <tr>\n",
       "      <th>3</th>\n",
       "      <td>David</td>\n",
       "      <td>7.2123</td>\n",
       "      <td>2.2</td>\n",
       "      <td>“school”</td>\n",
       "      <td>2023-05-01 15:15:00</td>\n",
       "      <td>2023-06-15</td>\n",
       "      <td>False</td>\n",
       "      <td>$0.00</td>\n",
       "    </tr>\n",
       "    <tr>\n",
       "      <th>4</th>\n",
       "      <td>David</td>\n",
       "      <td>6.8342</td>\n",
       "      <td>2</td>\n",
       "      <td>“gym”</td>\n",
       "      <td>2023-05-10 16:30:00</td>\n",
       "      <td>2023-06-15</td>\n",
       "      <td>False</td>\n",
       "      <td>$2.50</td>\n",
       "    </tr>\n",
       "  </tbody>\n",
       "</table>\n",
       "</div>"
      ],
      "text/plain": [
       "     Name  Run Time Warm Up Time   Location            Run Date  Race Date  \\\n",
       "0  Alexis    9.2343          3.5   “school” 2023-04-15 12:00:00 2023-06-01   \n",
       "1  Alexis   10.3842          3.5     School 2023-04-22 12:30:00 2023-06-01   \n",
       "2  Alexis    8.1209        3 min  “the gym” 2023-05-10 15:00:00 2023-06-01   \n",
       "3   David    7.2123          2.2   “school” 2023-05-01 15:15:00 2023-06-15   \n",
       "4   David    6.8342            2      “gym” 2023-05-10 16:30:00 2023-06-15   \n",
       "\n",
       "    Rain    Fee  \n",
       "0  False  $0.00  \n",
       "1   True  $0.00  \n",
       "2  False  $2.50  \n",
       "3  False  $0.00  \n",
       "4  False  $2.50  "
      ]
     },
     "execution_count": 64,
     "metadata": {},
     "output_type": "execute_result"
    }
   ],
   "source": [
    "run_time_df.head()"
   ]
  },
  {
   "cell_type": "code",
   "execution_count": 65,
   "id": "996f330b-2b5f-4122-b56d-d92db797c9d9",
   "metadata": {
    "tags": []
   },
   "outputs": [
    {
     "data": {
      "text/plain": [
       "0     “school”\n",
       "1       School\n",
       "2    “the gym”\n",
       "3     “school”\n",
       "4        “gym”\n",
       "Name: Location, dtype: object"
      ]
     },
     "execution_count": 65,
     "metadata": {},
     "output_type": "execute_result"
    }
   ],
   "source": [
    "run_time_df.Location"
   ]
  },
  {
   "cell_type": "code",
   "execution_count": 66,
   "id": "fdb9519c-538d-419c-91ad-f751530f18ff",
   "metadata": {
    "tags": []
   },
   "outputs": [],
   "source": [
    "run_time_df.Location = run_time_df.Location.str.lower().str.replace(\"the \", \"\").str.strip('“”')"
   ]
  },
  {
   "cell_type": "code",
   "execution_count": 67,
   "id": "99eca29e-07d9-4cbd-97a2-a57cc034af17",
   "metadata": {
    "tags": []
   },
   "outputs": [
    {
     "data": {
      "text/plain": [
       "0    school\n",
       "1    school\n",
       "2       gym\n",
       "3    school\n",
       "4       gym\n",
       "Name: Location, dtype: object"
      ]
     },
     "execution_count": 67,
     "metadata": {},
     "output_type": "execute_result"
    }
   ],
   "source": [
    "run_time_df.Location"
   ]
  },
  {
   "cell_type": "markdown",
   "id": "6af2e53b-f7b8-4c69-b9a0-dda75ee2c9f1",
   "metadata": {},
   "source": [
    "## Duplicate Data"
   ]
  },
  {
   "cell_type": "code",
   "execution_count": 68,
   "id": "44a57d3b-e246-4adc-9a46-9822cc81cf03",
   "metadata": {
    "tags": []
   },
   "outputs": [],
   "source": [
    "# entire row or column is exactly same\n",
    "# df.duplicated()\n",
    "# keep = False (shows all duplicated data)"
   ]
  },
  {
   "cell_type": "code",
   "execution_count": 69,
   "id": "aceac3c0-d33c-4274-bcc2-43f0df9db74c",
   "metadata": {
    "tags": []
   },
   "outputs": [
    {
     "data": {
      "text/html": [
       "<div>\n",
       "<style scoped>\n",
       "    .dataframe tbody tr th:only-of-type {\n",
       "        vertical-align: middle;\n",
       "    }\n",
       "\n",
       "    .dataframe tbody tr th {\n",
       "        vertical-align: top;\n",
       "    }\n",
       "\n",
       "    .dataframe thead th {\n",
       "        text-align: right;\n",
       "    }\n",
       "</style>\n",
       "<table border=\"1\" class=\"dataframe\">\n",
       "  <thead>\n",
       "    <tr style=\"text-align: right;\">\n",
       "      <th></th>\n",
       "      <th>Student</th>\n",
       "      <th>Class</th>\n",
       "      <th>Year</th>\n",
       "      <th>Grade</th>\n",
       "    </tr>\n",
       "  </thead>\n",
       "  <tbody>\n",
       "    <tr>\n",
       "      <th>0</th>\n",
       "      <td>Emma</td>\n",
       "      <td>Freshman Seminar</td>\n",
       "      <td>Freshman</td>\n",
       "      <td>86.0</td>\n",
       "    </tr>\n",
       "    <tr>\n",
       "      <th>1</th>\n",
       "      <td>Olivia</td>\n",
       "      <td>Freshman Seminar</td>\n",
       "      <td>Freshman</td>\n",
       "      <td>86.0</td>\n",
       "    </tr>\n",
       "    <tr>\n",
       "      <th>2</th>\n",
       "      <td>Noah</td>\n",
       "      <td>Freshman Seminar</td>\n",
       "      <td>Freshman</td>\n",
       "      <td>86.0</td>\n",
       "    </tr>\n",
       "    <tr>\n",
       "      <th>3</th>\n",
       "      <td>Sophia</td>\n",
       "      <td>Freshman Seminar</td>\n",
       "      <td>Freshman</td>\n",
       "      <td>87.0</td>\n",
       "    </tr>\n",
       "    <tr>\n",
       "      <th>4</th>\n",
       "      <td>Liam</td>\n",
       "      <td>Freshman Seminar</td>\n",
       "      <td>Freshman</td>\n",
       "      <td>90.0</td>\n",
       "    </tr>\n",
       "  </tbody>\n",
       "</table>\n",
       "</div>"
      ],
      "text/plain": [
       "  Student             Class      Year  Grade\n",
       "0    Emma  Freshman Seminar  Freshman   86.0\n",
       "1  Olivia  Freshman Seminar  Freshman   86.0\n",
       "2    Noah  Freshman Seminar  Freshman   86.0\n",
       "3  Sophia  Freshman Seminar  Freshman   87.0\n",
       "4    Liam  Freshman Seminar  Freshman   90.0"
      ]
     },
     "execution_count": 69,
     "metadata": {},
     "output_type": "execute_result"
    }
   ],
   "source": [
    "df.head()"
   ]
  },
  {
   "cell_type": "code",
   "execution_count": 70,
   "id": "44bd3d52-4999-4ced-90b3-7fe56c305d03",
   "metadata": {
    "tags": []
   },
   "outputs": [
    {
     "data": {
      "text/html": [
       "<div>\n",
       "<style scoped>\n",
       "    .dataframe tbody tr th:only-of-type {\n",
       "        vertical-align: middle;\n",
       "    }\n",
       "\n",
       "    .dataframe tbody tr th {\n",
       "        vertical-align: top;\n",
       "    }\n",
       "\n",
       "    .dataframe thead th {\n",
       "        text-align: right;\n",
       "    }\n",
       "</style>\n",
       "<table border=\"1\" class=\"dataframe\">\n",
       "  <thead>\n",
       "    <tr style=\"text-align: right;\">\n",
       "      <th></th>\n",
       "      <th>Student</th>\n",
       "      <th>Class</th>\n",
       "      <th>Year</th>\n",
       "      <th>Grade</th>\n",
       "    </tr>\n",
       "  </thead>\n",
       "  <tbody>\n",
       "    <tr>\n",
       "      <th>18</th>\n",
       "      <td>Mia</td>\n",
       "      <td>Intro to Python</td>\n",
       "      <td>Freshman</td>\n",
       "      <td>80.0</td>\n",
       "    </tr>\n",
       "    <tr>\n",
       "      <th>19</th>\n",
       "      <td>Mia</td>\n",
       "      <td>Intro to Python</td>\n",
       "      <td>Freshman</td>\n",
       "      <td>80.0</td>\n",
       "    </tr>\n",
       "    <tr>\n",
       "      <th>42</th>\n",
       "      <td>Isaac</td>\n",
       "      <td>Intro to SQL</td>\n",
       "      <td>Sophomore</td>\n",
       "      <td>96.0</td>\n",
       "    </tr>\n",
       "    <tr>\n",
       "      <th>43</th>\n",
       "      <td>Isaac</td>\n",
       "      <td>Intro to SQL</td>\n",
       "      <td>Sophomore</td>\n",
       "      <td>96.0</td>\n",
       "    </tr>\n",
       "    <tr>\n",
       "      <th>44</th>\n",
       "      <td>Isaac</td>\n",
       "      <td>Intro to SQL</td>\n",
       "      <td>Sophomore</td>\n",
       "      <td>96.0</td>\n",
       "    </tr>\n",
       "  </tbody>\n",
       "</table>\n",
       "</div>"
      ],
      "text/plain": [
       "   Student            Class       Year  Grade\n",
       "18     Mia  Intro to Python   Freshman   80.0\n",
       "19     Mia  Intro to Python   Freshman   80.0\n",
       "42   Isaac     Intro to SQL  Sophomore   96.0\n",
       "43   Isaac     Intro to SQL  Sophomore   96.0\n",
       "44   Isaac     Intro to SQL  Sophomore   96.0"
      ]
     },
     "execution_count": 70,
     "metadata": {},
     "output_type": "execute_result"
    }
   ],
   "source": [
    "df[df.duplicated(keep=False)]"
   ]
  },
  {
   "cell_type": "code",
   "execution_count": 71,
   "id": "cb8948cc-f2fb-486d-960e-8648f548071c",
   "metadata": {
    "tags": []
   },
   "outputs": [
    {
     "data": {
      "text/html": [
       "<div>\n",
       "<style scoped>\n",
       "    .dataframe tbody tr th:only-of-type {\n",
       "        vertical-align: middle;\n",
       "    }\n",
       "\n",
       "    .dataframe tbody tr th {\n",
       "        vertical-align: top;\n",
       "    }\n",
       "\n",
       "    .dataframe thead th {\n",
       "        text-align: right;\n",
       "    }\n",
       "</style>\n",
       "<table border=\"1\" class=\"dataframe\">\n",
       "  <thead>\n",
       "    <tr style=\"text-align: right;\">\n",
       "      <th></th>\n",
       "      <th>Student</th>\n",
       "      <th>Class</th>\n",
       "      <th>Year</th>\n",
       "      <th>Grade</th>\n",
       "    </tr>\n",
       "  </thead>\n",
       "  <tbody>\n",
       "    <tr>\n",
       "      <th>19</th>\n",
       "      <td>Mia</td>\n",
       "      <td>Intro to Python</td>\n",
       "      <td>Freshman</td>\n",
       "      <td>80.0</td>\n",
       "    </tr>\n",
       "    <tr>\n",
       "      <th>43</th>\n",
       "      <td>Isaac</td>\n",
       "      <td>Intro to SQL</td>\n",
       "      <td>Sophomore</td>\n",
       "      <td>96.0</td>\n",
       "    </tr>\n",
       "    <tr>\n",
       "      <th>44</th>\n",
       "      <td>Isaac</td>\n",
       "      <td>Intro to SQL</td>\n",
       "      <td>Sophomore</td>\n",
       "      <td>96.0</td>\n",
       "    </tr>\n",
       "  </tbody>\n",
       "</table>\n",
       "</div>"
      ],
      "text/plain": [
       "   Student            Class       Year  Grade\n",
       "19     Mia  Intro to Python   Freshman   80.0\n",
       "43   Isaac     Intro to SQL  Sophomore   96.0\n",
       "44   Isaac     Intro to SQL  Sophomore   96.0"
      ]
     },
     "execution_count": 71,
     "metadata": {},
     "output_type": "execute_result"
    }
   ],
   "source": [
    "df[df.duplicated()]"
   ]
  },
  {
   "cell_type": "code",
   "execution_count": 72,
   "id": "784a7d2d-42bc-4cef-a4a5-7197abb4d8b8",
   "metadata": {
    "tags": []
   },
   "outputs": [],
   "source": [
    "df.drop_duplicates(inplace=True)"
   ]
  },
  {
   "cell_type": "code",
   "execution_count": 73,
   "id": "21cdf6bb-60ef-45d3-8e14-85bb01ff32ca",
   "metadata": {
    "tags": []
   },
   "outputs": [
    {
     "data": {
      "text/html": [
       "<div>\n",
       "<style scoped>\n",
       "    .dataframe tbody tr th:only-of-type {\n",
       "        vertical-align: middle;\n",
       "    }\n",
       "\n",
       "    .dataframe tbody tr th {\n",
       "        vertical-align: top;\n",
       "    }\n",
       "\n",
       "    .dataframe thead th {\n",
       "        text-align: right;\n",
       "    }\n",
       "</style>\n",
       "<table border=\"1\" class=\"dataframe\">\n",
       "  <thead>\n",
       "    <tr style=\"text-align: right;\">\n",
       "      <th></th>\n",
       "      <th>Student</th>\n",
       "      <th>Class</th>\n",
       "      <th>Year</th>\n",
       "      <th>Grade</th>\n",
       "    </tr>\n",
       "  </thead>\n",
       "  <tbody>\n",
       "  </tbody>\n",
       "</table>\n",
       "</div>"
      ],
      "text/plain": [
       "Empty DataFrame\n",
       "Columns: [Student, Class, Year, Grade]\n",
       "Index: []"
      ]
     },
     "execution_count": 73,
     "metadata": {},
     "output_type": "execute_result"
    }
   ],
   "source": [
    "df[df.duplicated()]"
   ]
  },
  {
   "cell_type": "code",
   "execution_count": 74,
   "id": "79bb86d5-3eb5-4f58-84d2-b2d61ce1b919",
   "metadata": {
    "tags": []
   },
   "outputs": [],
   "source": [
    "df.reset_index(drop=True, inplace=True)"
   ]
  },
  {
   "cell_type": "code",
   "execution_count": 75,
   "id": "03ded433-6f40-4c6d-abd1-ef436e956343",
   "metadata": {
    "tags": []
   },
   "outputs": [
    {
     "data": {
      "text/html": [
       "<div>\n",
       "<style scoped>\n",
       "    .dataframe tbody tr th:only-of-type {\n",
       "        vertical-align: middle;\n",
       "    }\n",
       "\n",
       "    .dataframe tbody tr th {\n",
       "        vertical-align: top;\n",
       "    }\n",
       "\n",
       "    .dataframe thead th {\n",
       "        text-align: right;\n",
       "    }\n",
       "</style>\n",
       "<table border=\"1\" class=\"dataframe\">\n",
       "  <thead>\n",
       "    <tr style=\"text-align: right;\">\n",
       "      <th></th>\n",
       "      <th>Student</th>\n",
       "      <th>Class</th>\n",
       "      <th>Year</th>\n",
       "      <th>Grade</th>\n",
       "    </tr>\n",
       "  </thead>\n",
       "  <tbody>\n",
       "    <tr>\n",
       "      <th>40</th>\n",
       "      <td>Charlotte</td>\n",
       "      <td>Intro to SQL</td>\n",
       "      <td>Sophomore</td>\n",
       "      <td>92.0</td>\n",
       "    </tr>\n",
       "    <tr>\n",
       "      <th>41</th>\n",
       "      <td>Isaac</td>\n",
       "      <td>Intro to SQL</td>\n",
       "      <td>Sophomore</td>\n",
       "      <td>96.0</td>\n",
       "    </tr>\n",
       "    <tr>\n",
       "      <th>42</th>\n",
       "      <td>Harper</td>\n",
       "      <td>Intro to SQL</td>\n",
       "      <td>Sophomore</td>\n",
       "      <td>93.0</td>\n",
       "    </tr>\n",
       "    <tr>\n",
       "      <th>43</th>\n",
       "      <td>Ryan</td>\n",
       "      <td>Intro to SQL</td>\n",
       "      <td>Sophomore</td>\n",
       "      <td>76.0</td>\n",
       "    </tr>\n",
       "    <tr>\n",
       "      <th>44</th>\n",
       "      <td>Sofia</td>\n",
       "      <td>Intro to SQL</td>\n",
       "      <td>Sophomore</td>\n",
       "      <td>79.0</td>\n",
       "    </tr>\n",
       "  </tbody>\n",
       "</table>\n",
       "</div>"
      ],
      "text/plain": [
       "      Student         Class       Year  Grade\n",
       "40  Charlotte  Intro to SQL  Sophomore   92.0\n",
       "41      Isaac  Intro to SQL  Sophomore   96.0\n",
       "42     Harper  Intro to SQL  Sophomore   93.0\n",
       "43       Ryan  Intro to SQL  Sophomore   76.0\n",
       "44      Sofia  Intro to SQL  Sophomore   79.0"
      ]
     },
     "execution_count": 75,
     "metadata": {},
     "output_type": "execute_result"
    }
   ],
   "source": [
    "df.iloc[40 : 45]"
   ]
  },
  {
   "cell_type": "markdown",
   "id": "206a52f8-b74e-4636-a538-b21d9260b5e9",
   "metadata": {},
   "source": [
    "# Identifying Outlier"
   ]
  },
  {
   "cell_type": "code",
   "execution_count": 76,
   "id": "aa49aeb6-0c65-491c-8f22-13892d01b39f",
   "metadata": {
    "tags": []
   },
   "outputs": [],
   "source": [
    "# value in dataset thet is much bigger or smaller than others"
   ]
  },
  {
   "cell_type": "code",
   "execution_count": 77,
   "id": "c77cca8e-ce98-4810-b94c-d378b6e24d0b",
   "metadata": {
    "tags": []
   },
   "outputs": [],
   "source": [
    "# histogram, box plots, standard deviation, points farther away "
   ]
  },
  {
   "cell_type": "code",
   "execution_count": 78,
   "id": "003fae77-059a-49a2-a798-29c427fa3e6d",
   "metadata": {
    "tags": []
   },
   "outputs": [],
   "source": [
    "# seaborn as sns --- sns.histplot()"
   ]
  },
  {
   "cell_type": "code",
   "execution_count": 79,
   "id": "29eab1fb-fd18-4b5c-a9b9-3d1738822122",
   "metadata": {
    "tags": []
   },
   "outputs": [],
   "source": [
    "import seaborn as sns"
   ]
  },
  {
   "cell_type": "code",
   "execution_count": 80,
   "id": "89f20f32-30ca-4c96-b9df-9063a6b69b07",
   "metadata": {
    "tags": []
   },
   "outputs": [
    {
     "data": {
      "text/html": [
       "<div>\n",
       "<style scoped>\n",
       "    .dataframe tbody tr th:only-of-type {\n",
       "        vertical-align: middle;\n",
       "    }\n",
       "\n",
       "    .dataframe tbody tr th {\n",
       "        vertical-align: top;\n",
       "    }\n",
       "\n",
       "    .dataframe thead th {\n",
       "        text-align: right;\n",
       "    }\n",
       "</style>\n",
       "<table border=\"1\" class=\"dataframe\">\n",
       "  <thead>\n",
       "    <tr style=\"text-align: right;\">\n",
       "      <th></th>\n",
       "      <th>Student</th>\n",
       "      <th>Class</th>\n",
       "      <th>Year</th>\n",
       "      <th>Grade</th>\n",
       "    </tr>\n",
       "  </thead>\n",
       "  <tbody>\n",
       "    <tr>\n",
       "      <th>0</th>\n",
       "      <td>Emma</td>\n",
       "      <td>Freshman Seminar</td>\n",
       "      <td>Freshman</td>\n",
       "      <td>86.0</td>\n",
       "    </tr>\n",
       "    <tr>\n",
       "      <th>1</th>\n",
       "      <td>Olivia</td>\n",
       "      <td>Freshman Seminar</td>\n",
       "      <td>Freshman</td>\n",
       "      <td>86.0</td>\n",
       "    </tr>\n",
       "    <tr>\n",
       "      <th>2</th>\n",
       "      <td>Noah</td>\n",
       "      <td>Freshman Seminar</td>\n",
       "      <td>Freshman</td>\n",
       "      <td>86.0</td>\n",
       "    </tr>\n",
       "    <tr>\n",
       "      <th>3</th>\n",
       "      <td>Sophia</td>\n",
       "      <td>Freshman Seminar</td>\n",
       "      <td>Freshman</td>\n",
       "      <td>87.0</td>\n",
       "    </tr>\n",
       "    <tr>\n",
       "      <th>4</th>\n",
       "      <td>Liam</td>\n",
       "      <td>Freshman Seminar</td>\n",
       "      <td>Freshman</td>\n",
       "      <td>90.0</td>\n",
       "    </tr>\n",
       "  </tbody>\n",
       "</table>\n",
       "</div>"
      ],
      "text/plain": [
       "  Student             Class      Year  Grade\n",
       "0    Emma  Freshman Seminar  Freshman   86.0\n",
       "1  Olivia  Freshman Seminar  Freshman   86.0\n",
       "2    Noah  Freshman Seminar  Freshman   86.0\n",
       "3  Sophia  Freshman Seminar  Freshman   87.0\n",
       "4    Liam  Freshman Seminar  Freshman   90.0"
      ]
     },
     "execution_count": 80,
     "metadata": {},
     "output_type": "execute_result"
    }
   ],
   "source": [
    "df.head()"
   ]
  },
  {
   "cell_type": "code",
   "execution_count": 81,
   "id": "44ec7ed5-bffd-492a-baa7-43835f407639",
   "metadata": {
    "tags": []
   },
   "outputs": [
    {
     "data": {
      "text/plain": [
       "array([[<Axes: title={'center': 'Grade'}>]], dtype=object)"
      ]
     },
     "execution_count": 81,
     "metadata": {},
     "output_type": "execute_result"
    },
    {
     "data": {
      "image/png": "[encoded data removed]",
      "text/plain": [
       "<Figure size 640x480 with 1 Axes>"
      ]
     },
     "metadata": {},
     "output_type": "display_data"
    }
   ],
   "source": [
    "df.hist(bins=10)"
   ]
  },
  {
   "cell_type": "code",
   "execution_count": 82,
   "id": "0de9f7c1-e597-49b6-90b4-0d48dec062e2",
   "metadata": {
    "tags": []
   },
   "outputs": [
    {
     "data": {
      "image/png": "[encoded data removed]",
      "text/plain": [
       "<Figure size 640x480 with 1 Axes>"
      ]
     },
     "metadata": {},
     "output_type": "display_data"
    }
   ],
   "source": [
    "sns.histplot(df, binwidth=1);"
   ]
  },
  {
   "cell_type": "code",
   "execution_count": 83,
   "id": "6df8c05e-e537-4e3c-8f77-5faa760cb8c8",
   "metadata": {
    "tags": []
   },
   "outputs": [
    {
     "data": {
      "text/plain": [
       "<Axes: xlabel='Grade'>"
      ]
     },
     "execution_count": 83,
     "metadata": {},
     "output_type": "execute_result"
    },
    {
     "data": {
      "image/png": "[encoded data removed]",
      "text/plain": [
       "<Figure size 640x480 with 1 Axes>"
      ]
     },
     "metadata": {},
     "output_type": "display_data"
    }
   ],
   "source": [
    "sns.boxplot(x=df.Grade)"
   ]
  },
  {
   "cell_type": "code",
   "execution_count": 84,
   "id": "9bb8c243-72c9-4dcb-97c7-a61fbaba16a7",
   "metadata": {
    "tags": []
   },
   "outputs": [],
   "source": [
    "q25, q50, q75 = np.percentile(df.Grade, (25, 50, 75))"
   ]
  },
  {
   "cell_type": "code",
   "execution_count": 85,
   "id": "4be0e889-0b17-4d58-a4de-2c9be121dc55",
   "metadata": {
    "tags": []
   },
   "outputs": [],
   "source": [
    "iqr = q75 - q25"
   ]
  },
  {
   "cell_type": "code",
   "execution_count": 86,
   "id": "e7551c0f-9a2d-41b8-8270-206196b1ddeb",
   "metadata": {
    "tags": []
   },
   "outputs": [],
   "source": [
    "max_grade = q75 + 1.5 * iqr\n",
    "min_grade = q25 - 1.5 * iqr"
   ]
  },
  {
   "cell_type": "code",
   "execution_count": 87,
   "id": "32504624-3639-4586-ac0c-ae10ebd50b0e",
   "metadata": {
    "tags": []
   },
   "outputs": [
    {
     "data": {
      "text/plain": [
       "69.0"
      ]
     },
     "execution_count": 87,
     "metadata": {},
     "output_type": "execute_result"
    }
   ],
   "source": [
    "min_grade"
   ]
  },
  {
   "cell_type": "code",
   "execution_count": 88,
   "id": "dda18b63-430a-46c8-86c0-de3c6749458e",
   "metadata": {
    "tags": []
   },
   "outputs": [
    {
     "data": {
      "text/plain": [
       "101.0"
      ]
     },
     "execution_count": 88,
     "metadata": {},
     "output_type": "execute_result"
    }
   ],
   "source": [
    "max_grade"
   ]
  },
  {
   "cell_type": "code",
   "execution_count": 89,
   "id": "705d50cb-6a20-486f-bba4-cd649f12df1f",
   "metadata": {
    "tags": []
   },
   "outputs": [
    {
     "data": {
      "text/html": [
       "<div>\n",
       "<style scoped>\n",
       "    .dataframe tbody tr th:only-of-type {\n",
       "        vertical-align: middle;\n",
       "    }\n",
       "\n",
       "    .dataframe tbody tr th {\n",
       "        vertical-align: top;\n",
       "    }\n",
       "\n",
       "    .dataframe thead th {\n",
       "        text-align: right;\n",
       "    }\n",
       "</style>\n",
       "<table border=\"1\" class=\"dataframe\">\n",
       "  <thead>\n",
       "    <tr style=\"text-align: right;\">\n",
       "      <th></th>\n",
       "      <th>Student</th>\n",
       "      <th>Class</th>\n",
       "      <th>Year</th>\n",
       "      <th>Grade</th>\n",
       "    </tr>\n",
       "  </thead>\n",
       "  <tbody>\n",
       "    <tr>\n",
       "      <th>36</th>\n",
       "      <td>John</td>\n",
       "      <td>Intro to Python</td>\n",
       "      <td>Freshman</td>\n",
       "      <td>50.0</td>\n",
       "    </tr>\n",
       "    <tr>\n",
       "      <th>53</th>\n",
       "      <td>Wyatt</td>\n",
       "      <td>Intro to SQL</td>\n",
       "      <td>Sophomore</td>\n",
       "      <td>45.0</td>\n",
       "    </tr>\n",
       "    <tr>\n",
       "      <th>66</th>\n",
       "      <td>Jaxon</td>\n",
       "      <td>Exploratory Data Analysis</td>\n",
       "      <td>Junior</td>\n",
       "      <td>64.0</td>\n",
       "    </tr>\n",
       "  </tbody>\n",
       "</table>\n",
       "</div>"
      ],
      "text/plain": [
       "   Student                      Class       Year  Grade\n",
       "36    John            Intro to Python   Freshman   50.0\n",
       "53   Wyatt               Intro to SQL  Sophomore   45.0\n",
       "66   Jaxon  Exploratory Data Analysis     Junior   64.0"
      ]
     },
     "execution_count": 89,
     "metadata": {},
     "output_type": "execute_result"
    }
   ],
   "source": [
    "df[df.Grade < min_grade]"
   ]
  },
  {
   "cell_type": "code",
   "execution_count": 90,
   "id": "3d6a6dbd-ed31-4382-bac0-d40a096a2862",
   "metadata": {
    "tags": []
   },
   "outputs": [
    {
     "data": {
      "text/html": [
       "<div>\n",
       "<style scoped>\n",
       "    .dataframe tbody tr th:only-of-type {\n",
       "        vertical-align: middle;\n",
       "    }\n",
       "\n",
       "    .dataframe tbody tr th {\n",
       "        vertical-align: top;\n",
       "    }\n",
       "\n",
       "    .dataframe thead th {\n",
       "        text-align: right;\n",
       "    }\n",
       "</style>\n",
       "<table border=\"1\" class=\"dataframe\">\n",
       "  <thead>\n",
       "    <tr style=\"text-align: right;\">\n",
       "      <th></th>\n",
       "      <th>Student</th>\n",
       "      <th>Class</th>\n",
       "      <th>Year</th>\n",
       "      <th>Grade</th>\n",
       "    </tr>\n",
       "  </thead>\n",
       "  <tbody>\n",
       "  </tbody>\n",
       "</table>\n",
       "</div>"
      ],
      "text/plain": [
       "Empty DataFrame\n",
       "Columns: [Student, Class, Year, Grade]\n",
       "Index: []"
      ]
     },
     "execution_count": 90,
     "metadata": {},
     "output_type": "execute_result"
    }
   ],
   "source": [
    "df[df.Grade > max_grade]"
   ]
  },
  {
   "cell_type": "code",
   "execution_count": 91,
   "id": "98ddc1fd-2d4f-444e-98d2-1b7ac6e09fb6",
   "metadata": {},
   "outputs": [],
   "source": [
    "#standard deviation --- spread of dataset from mean"
   ]
  },
  {
   "cell_type": "code",
   "execution_count": 92,
   "id": "8510d68c",
   "metadata": {},
   "outputs": [],
   "source": [
    "# values at least 3 SD away from mean are considered outliers\n",
    "# in normally distributed or bell shaped data"
   ]
  },
  {
   "cell_type": "code",
   "execution_count": 93,
   "id": "4cd3add6",
   "metadata": {},
   "outputs": [],
   "source": [
    "import numpy as np"
   ]
  },
  {
   "cell_type": "code",
   "execution_count": 95,
   "id": "d12f01d8",
   "metadata": {},
   "outputs": [],
   "source": [
    "mean_grade = np.mean(df.Grade)\n",
    "sd_grade = np.std(df.Grade)"
   ]
  },
  {
   "cell_type": "code",
   "execution_count": 96,
   "id": "caedc620",
   "metadata": {},
   "outputs": [
    {
     "data": {
      "text/plain": [
       "(84.08987341772152, 8.723725033779411)"
      ]
     },
     "execution_count": 96,
     "metadata": {},
     "output_type": "execute_result"
    }
   ],
   "source": [
    "mean_grade, sd_grade"
   ]
  },
  {
   "cell_type": "code",
   "execution_count": 98,
   "id": "5ca40de7",
   "metadata": {},
   "outputs": [
    {
     "data": {
      "text/plain": [
       "[50.0, 45.0]"
      ]
     },
     "execution_count": 98,
     "metadata": {},
     "output_type": "execute_result"
    }
   ],
   "source": [
    "[grade for grade in df.Grade if (grade > mean_grade + 3 * sd_grade) or (grade < mean_grade - 3 * sd_grade)]"
   ]
  },
  {
   "cell_type": "code",
   "execution_count": 109,
   "id": "6c7c6ebe",
   "metadata": {},
   "outputs": [
    {
     "data": {
      "text/plain": [
       "(79, 4)"
      ]
     },
     "execution_count": 109,
     "metadata": {},
     "output_type": "execute_result"
    }
   ],
   "source": [
    "df[(df.Grade == 50 )| (df.Grade == 45)]"
   ]
  },
  {
   "cell_type": "code",
   "execution_count": 112,
   "id": "34dddb34",
   "metadata": {},
   "outputs": [],
   "source": [
    "df = df[~((df.Grade == 50 )| (df.Grade == 45))]"
   ]
  },
  {
   "cell_type": "code",
   "execution_count": 113,
   "id": "73263f32",
   "metadata": {},
   "outputs": [
    {
     "data": {
      "text/html": [
       "<div>\n",
       "<style scoped>\n",
       "    .dataframe tbody tr th:only-of-type {\n",
       "        vertical-align: middle;\n",
       "    }\n",
       "\n",
       "    .dataframe tbody tr th {\n",
       "        vertical-align: top;\n",
       "    }\n",
       "\n",
       "    .dataframe thead th {\n",
       "        text-align: right;\n",
       "    }\n",
       "</style>\n",
       "<table border=\"1\" class=\"dataframe\">\n",
       "  <thead>\n",
       "    <tr style=\"text-align: right;\">\n",
       "      <th></th>\n",
       "      <th>Student</th>\n",
       "      <th>Class</th>\n",
       "      <th>Year</th>\n",
       "      <th>Grade</th>\n",
       "    </tr>\n",
       "  </thead>\n",
       "  <tbody>\n",
       "    <tr>\n",
       "      <th>0</th>\n",
       "      <td>Emma</td>\n",
       "      <td>Freshman Seminar</td>\n",
       "      <td>Freshman</td>\n",
       "      <td>86.00</td>\n",
       "    </tr>\n",
       "    <tr>\n",
       "      <th>1</th>\n",
       "      <td>Olivia</td>\n",
       "      <td>Freshman Seminar</td>\n",
       "      <td>Freshman</td>\n",
       "      <td>86.00</td>\n",
       "    </tr>\n",
       "    <tr>\n",
       "      <th>2</th>\n",
       "      <td>Noah</td>\n",
       "      <td>Freshman Seminar</td>\n",
       "      <td>Freshman</td>\n",
       "      <td>86.00</td>\n",
       "    </tr>\n",
       "    <tr>\n",
       "      <th>3</th>\n",
       "      <td>Sophia</td>\n",
       "      <td>Freshman Seminar</td>\n",
       "      <td>Freshman</td>\n",
       "      <td>87.00</td>\n",
       "    </tr>\n",
       "    <tr>\n",
       "      <th>4</th>\n",
       "      <td>Liam</td>\n",
       "      <td>Freshman Seminar</td>\n",
       "      <td>Freshman</td>\n",
       "      <td>90.00</td>\n",
       "    </tr>\n",
       "    <tr>\n",
       "      <th>...</th>\n",
       "      <td>...</td>\n",
       "      <td>...</td>\n",
       "      <td>...</td>\n",
       "      <td>...</td>\n",
       "    </tr>\n",
       "    <tr>\n",
       "      <th>74</th>\n",
       "      <td>Aaron</td>\n",
       "      <td>Exploratory Data Analysis</td>\n",
       "      <td>Junior</td>\n",
       "      <td>85.00</td>\n",
       "    </tr>\n",
       "    <tr>\n",
       "      <th>75</th>\n",
       "      <td>Charles</td>\n",
       "      <td>Exploratory Data Analysis</td>\n",
       "      <td>Junior</td>\n",
       "      <td>93.00</td>\n",
       "    </tr>\n",
       "    <tr>\n",
       "      <th>76</th>\n",
       "      <td>Connor</td>\n",
       "      <td>Exploratory Data Analysis</td>\n",
       "      <td>Junior</td>\n",
       "      <td>91.00</td>\n",
       "    </tr>\n",
       "    <tr>\n",
       "      <th>77</th>\n",
       "      <td>Riley</td>\n",
       "      <td>Exploratory Data Analysis</td>\n",
       "      <td>Junior</td>\n",
       "      <td>87.00</td>\n",
       "    </tr>\n",
       "    <tr>\n",
       "      <th>78</th>\n",
       "      <td>Gavin</td>\n",
       "      <td>Exploratory Data Analysis</td>\n",
       "      <td>Senior</td>\n",
       "      <td>85.55</td>\n",
       "    </tr>\n",
       "  </tbody>\n",
       "</table>\n",
       "<p>77 rows × 4 columns</p>\n",
       "</div>"
      ],
      "text/plain": [
       "    Student                      Class      Year  Grade\n",
       "0      Emma           Freshman Seminar  Freshman  86.00\n",
       "1    Olivia           Freshman Seminar  Freshman  86.00\n",
       "2      Noah           Freshman Seminar  Freshman  86.00\n",
       "3    Sophia           Freshman Seminar  Freshman  87.00\n",
       "4      Liam           Freshman Seminar  Freshman  90.00\n",
       "..      ...                        ...       ...    ...\n",
       "74    Aaron  Exploratory Data Analysis    Junior  85.00\n",
       "75  Charles  Exploratory Data Analysis    Junior  93.00\n",
       "76   Connor  Exploratory Data Analysis    Junior  91.00\n",
       "77    Riley  Exploratory Data Analysis    Junior  87.00\n",
       "78    Gavin  Exploratory Data Analysis    Senior  85.55\n",
       "\n",
       "[77 rows x 4 columns]"
      ]
     },
     "execution_count": 113,
     "metadata": {},
     "output_type": "execute_result"
    }
   ],
   "source": [
    "df"
   ]
  },
  {
   "cell_type": "code",
   "execution_count": 123,
   "id": "147080bd",
   "metadata": {},
   "outputs": [
    {
     "data": {
      "text/html": [
       "<div>\n",
       "<style scoped>\n",
       "    .dataframe tbody tr th:only-of-type {\n",
       "        vertical-align: middle;\n",
       "    }\n",
       "\n",
       "    .dataframe tbody tr th {\n",
       "        vertical-align: top;\n",
       "    }\n",
       "\n",
       "    .dataframe thead th {\n",
       "        text-align: right;\n",
       "    }\n",
       "</style>\n",
       "<table border=\"1\" class=\"dataframe\">\n",
       "  <thead>\n",
       "    <tr style=\"text-align: right;\">\n",
       "      <th></th>\n",
       "      <th>Student</th>\n",
       "      <th>Class</th>\n",
       "      <th>Year</th>\n",
       "      <th>Grade</th>\n",
       "    </tr>\n",
       "  </thead>\n",
       "  <tbody>\n",
       "  </tbody>\n",
       "</table>\n",
       "</div>"
      ],
      "text/plain": [
       "Empty DataFrame\n",
       "Columns: [Student, Class, Year, Grade]\n",
       "Index: []"
      ]
     },
     "execution_count": 123,
     "metadata": {},
     "output_type": "execute_result"
    }
   ],
   "source": [
    "# missing value\n",
    "df[df.isna().any(axis=1)]"
   ]
  },
  {
   "cell_type": "code",
   "execution_count": 117,
   "id": "2697b549",
   "metadata": {},
   "outputs": [
    {
     "data": {
      "text/html": [
       "<div>\n",
       "<style scoped>\n",
       "    .dataframe tbody tr th:only-of-type {\n",
       "        vertical-align: middle;\n",
       "    }\n",
       "\n",
       "    .dataframe tbody tr th {\n",
       "        vertical-align: top;\n",
       "    }\n",
       "\n",
       "    .dataframe thead th {\n",
       "        text-align: right;\n",
       "    }\n",
       "</style>\n",
       "<table border=\"1\" class=\"dataframe\">\n",
       "  <thead>\n",
       "    <tr style=\"text-align: right;\">\n",
       "      <th></th>\n",
       "      <th>Student</th>\n",
       "      <th>Class</th>\n",
       "      <th>Year</th>\n",
       "      <th>Grade</th>\n",
       "    </tr>\n",
       "  </thead>\n",
       "  <tbody>\n",
       "  </tbody>\n",
       "</table>\n",
       "</div>"
      ],
      "text/plain": [
       "Empty DataFrame\n",
       "Columns: [Student, Class, Year, Grade]\n",
       "Index: []"
      ]
     },
     "execution_count": 117,
     "metadata": {},
     "output_type": "execute_result"
    }
   ],
   "source": [
    "#duplicated data\n",
    "df[df.duplicated()]"
   ]
  },
  {
   "cell_type": "code",
   "execution_count": 118,
   "id": "a2dfa49e",
   "metadata": {},
   "outputs": [
    {
     "data": {
      "text/plain": [
       "<Axes: ylabel='Count'>"
      ]
     },
     "execution_count": 118,
     "metadata": {},
     "output_type": "execute_result"
    },
    {
     "data": {
      "image/png": "[encoded data removed]",
      "text/plain": [
       "<Figure size 640x480 with 1 Axes>"
      ]
     },
     "metadata": {},
     "output_type": "display_data"
    }
   ],
   "source": [
    "#outliers\n",
    "sns.histplot(df)"
   ]
  },
  {
   "cell_type": "code",
   "execution_count": 120,
   "id": "0b5f36bc",
   "metadata": {},
   "outputs": [
    {
     "data": {
      "text/html": [
       "<div>\n",
       "<style scoped>\n",
       "    .dataframe tbody tr th:only-of-type {\n",
       "        vertical-align: middle;\n",
       "    }\n",
       "\n",
       "    .dataframe tbody tr th {\n",
       "        vertical-align: top;\n",
       "    }\n",
       "\n",
       "    .dataframe thead th {\n",
       "        text-align: right;\n",
       "    }\n",
       "</style>\n",
       "<table border=\"1\" class=\"dataframe\">\n",
       "  <thead>\n",
       "    <tr style=\"text-align: right;\">\n",
       "      <th></th>\n",
       "      <th>Student</th>\n",
       "      <th>Class</th>\n",
       "      <th>Year</th>\n",
       "      <th>Grade</th>\n",
       "    </tr>\n",
       "  </thead>\n",
       "  <tbody>\n",
       "    <tr>\n",
       "      <th>0</th>\n",
       "      <td>Emma</td>\n",
       "      <td>Freshman Seminar</td>\n",
       "      <td>Freshman</td>\n",
       "      <td>86.0</td>\n",
       "    </tr>\n",
       "    <tr>\n",
       "      <th>1</th>\n",
       "      <td>Olivia</td>\n",
       "      <td>Freshman Seminar</td>\n",
       "      <td>Freshman</td>\n",
       "      <td>86.0</td>\n",
       "    </tr>\n",
       "    <tr>\n",
       "      <th>2</th>\n",
       "      <td>Noah</td>\n",
       "      <td>Freshman Seminar</td>\n",
       "      <td>Freshman</td>\n",
       "      <td>86.0</td>\n",
       "    </tr>\n",
       "    <tr>\n",
       "      <th>3</th>\n",
       "      <td>Sophia</td>\n",
       "      <td>Freshman Seminar</td>\n",
       "      <td>Freshman</td>\n",
       "      <td>87.0</td>\n",
       "    </tr>\n",
       "    <tr>\n",
       "      <th>4</th>\n",
       "      <td>Liam</td>\n",
       "      <td>Freshman Seminar</td>\n",
       "      <td>Freshman</td>\n",
       "      <td>90.0</td>\n",
       "    </tr>\n",
       "    <tr>\n",
       "      <th>5</th>\n",
       "      <td>Mason</td>\n",
       "      <td>Freshman Seminar</td>\n",
       "      <td>Freshman</td>\n",
       "      <td>90.0</td>\n",
       "    </tr>\n",
       "    <tr>\n",
       "      <th>6</th>\n",
       "      <td>Isabella</td>\n",
       "      <td>Freshman Seminar</td>\n",
       "      <td>Freshman</td>\n",
       "      <td>90.0</td>\n",
       "    </tr>\n",
       "    <tr>\n",
       "      <th>7</th>\n",
       "      <td>Jacob</td>\n",
       "      <td>Freshman Seminar</td>\n",
       "      <td>Freshman</td>\n",
       "      <td>88.0</td>\n",
       "    </tr>\n",
       "    <tr>\n",
       "      <th>8</th>\n",
       "      <td>William</td>\n",
       "      <td>Freshman Seminar</td>\n",
       "      <td>NaN</td>\n",
       "      <td>89.0</td>\n",
       "    </tr>\n",
       "    <tr>\n",
       "      <th>9</th>\n",
       "      <td>Ethan</td>\n",
       "      <td>Freshman Seminar</td>\n",
       "      <td>NaN</td>\n",
       "      <td>86.0</td>\n",
       "    </tr>\n",
       "    <tr>\n",
       "      <th>10</th>\n",
       "      <td>Ava</td>\n",
       "      <td>Freshman Seminar</td>\n",
       "      <td>Freshman</td>\n",
       "      <td>88.0</td>\n",
       "    </tr>\n",
       "    <tr>\n",
       "      <th>11</th>\n",
       "      <td>Michael</td>\n",
       "      <td>Freshman Seminar</td>\n",
       "      <td>Freshman</td>\n",
       "      <td>88.0</td>\n",
       "    </tr>\n",
       "  </tbody>\n",
       "</table>\n",
       "</div>"
      ],
      "text/plain": [
       "     Student             Class      Year  Grade\n",
       "0       Emma  Freshman Seminar  Freshman   86.0\n",
       "1     Olivia  Freshman Seminar  Freshman   86.0\n",
       "2       Noah  Freshman Seminar  Freshman   86.0\n",
       "3     Sophia  Freshman Seminar  Freshman   87.0\n",
       "4       Liam  Freshman Seminar  Freshman   90.0\n",
       "5      Mason  Freshman Seminar  Freshman   90.0\n",
       "6   Isabella  Freshman Seminar  Freshman   90.0\n",
       "7      Jacob  Freshman Seminar  Freshman   88.0\n",
       "8    William  Freshman Seminar       NaN   89.0\n",
       "9      Ethan  Freshman Seminar       NaN   86.0\n",
       "10       Ava  Freshman Seminar  Freshman   88.0\n",
       "11   Michael  Freshman Seminar  Freshman   88.0"
      ]
     },
     "execution_count": 120,
     "metadata": {},
     "output_type": "execute_result"
    }
   ],
   "source": [
    "df[df.Class == 'Freshman Seminar']"
   ]
  },
  {
   "cell_type": "code",
   "execution_count": 121,
   "id": "e63373d3",
   "metadata": {},
   "outputs": [
    {
     "name": "stderr",
     "output_type": "stream",
     "text": [
      "C:\\Users\\harshs\\AppData\\Local\\Temp\\ipykernel_22516\\2058547296.py:1: SettingWithCopyWarning: \n",
      "A value is trying to be set on a copy of a slice from a DataFrame.\n",
      "Try using .loc[row_indexer,col_indexer] = value instead\n",
      "\n",
      "See the caveats in the documentation: https://pandas.pydata.org/pandas-docs/stable/user_guide/indexing.html#returning-a-view-versus-a-copy\n",
      "  df.Year = np.where(df.Class == \"Freshman Seminar\", \"Freshman\", df.Year)\n"
     ]
    }
   ],
   "source": [
    "df.Year = np.where(df.Class == \"Freshman Seminar\", \"Freshman\", df.Year)"
   ]
  },
  {
   "cell_type": "code",
   "execution_count": 122,
   "id": "5a41f3c3",
   "metadata": {},
   "outputs": [
    {
     "data": {
      "text/html": [
       "<div>\n",
       "<style scoped>\n",
       "    .dataframe tbody tr th:only-of-type {\n",
       "        vertical-align: middle;\n",
       "    }\n",
       "\n",
       "    .dataframe tbody tr th {\n",
       "        vertical-align: top;\n",
       "    }\n",
       "\n",
       "    .dataframe thead th {\n",
       "        text-align: right;\n",
       "    }\n",
       "</style>\n",
       "<table border=\"1\" class=\"dataframe\">\n",
       "  <thead>\n",
       "    <tr style=\"text-align: right;\">\n",
       "      <th></th>\n",
       "      <th>Student</th>\n",
       "      <th>Class</th>\n",
       "      <th>Year</th>\n",
       "      <th>Grade</th>\n",
       "    </tr>\n",
       "  </thead>\n",
       "  <tbody>\n",
       "    <tr>\n",
       "      <th>0</th>\n",
       "      <td>Emma</td>\n",
       "      <td>Freshman Seminar</td>\n",
       "      <td>Freshman</td>\n",
       "      <td>86.00</td>\n",
       "    </tr>\n",
       "    <tr>\n",
       "      <th>1</th>\n",
       "      <td>Olivia</td>\n",
       "      <td>Freshman Seminar</td>\n",
       "      <td>Freshman</td>\n",
       "      <td>86.00</td>\n",
       "    </tr>\n",
       "    <tr>\n",
       "      <th>2</th>\n",
       "      <td>Noah</td>\n",
       "      <td>Freshman Seminar</td>\n",
       "      <td>Freshman</td>\n",
       "      <td>86.00</td>\n",
       "    </tr>\n",
       "    <tr>\n",
       "      <th>3</th>\n",
       "      <td>Sophia</td>\n",
       "      <td>Freshman Seminar</td>\n",
       "      <td>Freshman</td>\n",
       "      <td>87.00</td>\n",
       "    </tr>\n",
       "    <tr>\n",
       "      <th>4</th>\n",
       "      <td>Liam</td>\n",
       "      <td>Freshman Seminar</td>\n",
       "      <td>Freshman</td>\n",
       "      <td>90.00</td>\n",
       "    </tr>\n",
       "    <tr>\n",
       "      <th>...</th>\n",
       "      <td>...</td>\n",
       "      <td>...</td>\n",
       "      <td>...</td>\n",
       "      <td>...</td>\n",
       "    </tr>\n",
       "    <tr>\n",
       "      <th>74</th>\n",
       "      <td>Aaron</td>\n",
       "      <td>Exploratory Data Analysis</td>\n",
       "      <td>Junior</td>\n",
       "      <td>85.00</td>\n",
       "    </tr>\n",
       "    <tr>\n",
       "      <th>75</th>\n",
       "      <td>Charles</td>\n",
       "      <td>Exploratory Data Analysis</td>\n",
       "      <td>Junior</td>\n",
       "      <td>93.00</td>\n",
       "    </tr>\n",
       "    <tr>\n",
       "      <th>76</th>\n",
       "      <td>Connor</td>\n",
       "      <td>Exploratory Data Analysis</td>\n",
       "      <td>Junior</td>\n",
       "      <td>91.00</td>\n",
       "    </tr>\n",
       "    <tr>\n",
       "      <th>77</th>\n",
       "      <td>Riley</td>\n",
       "      <td>Exploratory Data Analysis</td>\n",
       "      <td>Junior</td>\n",
       "      <td>87.00</td>\n",
       "    </tr>\n",
       "    <tr>\n",
       "      <th>78</th>\n",
       "      <td>Gavin</td>\n",
       "      <td>Exploratory Data Analysis</td>\n",
       "      <td>Senior</td>\n",
       "      <td>85.55</td>\n",
       "    </tr>\n",
       "  </tbody>\n",
       "</table>\n",
       "<p>77 rows × 4 columns</p>\n",
       "</div>"
      ],
      "text/plain": [
       "    Student                      Class      Year  Grade\n",
       "0      Emma           Freshman Seminar  Freshman  86.00\n",
       "1    Olivia           Freshman Seminar  Freshman  86.00\n",
       "2      Noah           Freshman Seminar  Freshman  86.00\n",
       "3    Sophia           Freshman Seminar  Freshman  87.00\n",
       "4      Liam           Freshman Seminar  Freshman  90.00\n",
       "..      ...                        ...       ...    ...\n",
       "74    Aaron  Exploratory Data Analysis    Junior  85.00\n",
       "75  Charles  Exploratory Data Analysis    Junior  93.00\n",
       "76   Connor  Exploratory Data Analysis    Junior  91.00\n",
       "77    Riley  Exploratory Data Analysis    Junior  87.00\n",
       "78    Gavin  Exploratory Data Analysis    Senior  85.55\n",
       "\n",
       "[77 rows x 4 columns]"
      ]
     },
     "execution_count": 122,
     "metadata": {},
     "output_type": "execute_result"
    }
   ],
   "source": [
    "df"
   ]
  },
  {
   "cell_type": "code",
   "execution_count": 127,
   "id": "eeca2690",
   "metadata": {},
   "outputs": [
    {
     "data": {
      "text/plain": [
       "Student             William\n",
       "Class      Freshman Seminar\n",
       "Year               Freshman\n",
       "Grade                  89.0\n",
       "Name: 8, dtype: object"
      ]
     },
     "execution_count": 127,
     "metadata": {},
     "output_type": "execute_result"
    }
   ],
   "source": [
    "df.iloc[8]"
   ]
  },
  {
   "cell_type": "markdown",
   "id": "9965b39b",
   "metadata": {},
   "source": [
    "## creating new column"
   ]
  },
  {
   "cell_type": "code",
   "execution_count": 129,
   "id": "bad77d31",
   "metadata": {},
   "outputs": [],
   "source": [
    "# creating numeric col"
   ]
  },
  {
   "cell_type": "code",
   "execution_count": 130,
   "id": "d1e533e7",
   "metadata": {},
   "outputs": [],
   "source": [
    "groceries = pd.read_excel('Data/Groceries.xlsx')"
   ]
  },
  {
   "cell_type": "code",
   "execution_count": 131,
   "id": "c6fef0fd",
   "metadata": {},
   "outputs": [
    {
     "data": {
      "text/html": [
       "<div>\n",
       "<style scoped>\n",
       "    .dataframe tbody tr th:only-of-type {\n",
       "        vertical-align: middle;\n",
       "    }\n",
       "\n",
       "    .dataframe tbody tr th {\n",
       "        vertical-align: top;\n",
       "    }\n",
       "\n",
       "    .dataframe thead th {\n",
       "        text-align: right;\n",
       "    }\n",
       "</style>\n",
       "<table border=\"1\" class=\"dataframe\">\n",
       "  <thead>\n",
       "    <tr style=\"text-align: right;\">\n",
       "      <th></th>\n",
       "      <th>Product_ID</th>\n",
       "      <th>Category</th>\n",
       "      <th>Item</th>\n",
       "      <th>Price_Dollars</th>\n",
       "      <th>Inventory</th>\n",
       "      <th>Last_Updated</th>\n",
       "      <th>Next_Scheduled_Shipment</th>\n",
       "    </tr>\n",
       "  </thead>\n",
       "  <tbody>\n",
       "    <tr>\n",
       "      <th>0</th>\n",
       "      <td>P100010</td>\n",
       "      <td>Produce: Fruit</td>\n",
       "      <td>Apple</td>\n",
       "      <td>1.50</td>\n",
       "      <td>349</td>\n",
       "      <td>2023-06-12 15:35:00</td>\n",
       "      <td>2023-06-15</td>\n",
       "    </tr>\n",
       "    <tr>\n",
       "      <th>1</th>\n",
       "      <td>P100011</td>\n",
       "      <td>Produce: Fruit</td>\n",
       "      <td>Banana</td>\n",
       "      <td>0.40</td>\n",
       "      <td>500</td>\n",
       "      <td>2023-06-12 18:30:00</td>\n",
       "      <td>2023-06-15</td>\n",
       "    </tr>\n",
       "    <tr>\n",
       "      <th>2</th>\n",
       "      <td>P100012</td>\n",
       "      <td>Produce: Fruit</td>\n",
       "      <td>Grapes</td>\n",
       "      <td>4.00</td>\n",
       "      <td>200</td>\n",
       "      <td>2023-06-12 17:22:00</td>\n",
       "      <td>2023-06-15</td>\n",
       "    </tr>\n",
       "    <tr>\n",
       "      <th>3</th>\n",
       "      <td>P100013</td>\n",
       "      <td>Produce: Fruit</td>\n",
       "      <td>Grapefruit</td>\n",
       "      <td>0.99</td>\n",
       "      <td>50</td>\n",
       "      <td>2023-06-12 16:29:00</td>\n",
       "      <td>2023-06-15</td>\n",
       "    </tr>\n",
       "    <tr>\n",
       "      <th>4</th>\n",
       "      <td>P100014</td>\n",
       "      <td>Produce: Fruit</td>\n",
       "      <td>Organic Strawberries</td>\n",
       "      <td>3.99</td>\n",
       "      <td>148</td>\n",
       "      <td>2023-06-12 18:10:00</td>\n",
       "      <td>2023-06-15</td>\n",
       "    </tr>\n",
       "  </tbody>\n",
       "</table>\n",
       "</div>"
      ],
      "text/plain": [
       "  Product_ID        Category                  Item  Price_Dollars  Inventory  \\\n",
       "0    P100010  Produce: Fruit                 Apple           1.50        349   \n",
       "1    P100011  Produce: Fruit                Banana           0.40        500   \n",
       "2    P100012  Produce: Fruit                Grapes           4.00        200   \n",
       "3    P100013  Produce: Fruit            Grapefruit           0.99         50   \n",
       "4    P100014  Produce: Fruit  Organic Strawberries           3.99        148   \n",
       "\n",
       "         Last_Updated Next_Scheduled_Shipment  \n",
       "0 2023-06-12 15:35:00              2023-06-15  \n",
       "1 2023-06-12 18:30:00              2023-06-15  \n",
       "2 2023-06-12 17:22:00              2023-06-15  \n",
       "3 2023-06-12 16:29:00              2023-06-15  \n",
       "4 2023-06-12 18:10:00              2023-06-15  "
      ]
     },
     "execution_count": 131,
     "metadata": {},
     "output_type": "execute_result"
    }
   ],
   "source": [
    "groceries.head()"
   ]
  },
  {
   "cell_type": "code",
   "execution_count": 136,
   "id": "70244346",
   "metadata": {},
   "outputs": [],
   "source": [
    "groceries['update_price'] = round(groceries.Price_Dollars * 1.05, 2)"
   ]
  },
  {
   "cell_type": "code",
   "execution_count": 138,
   "id": "e4ad9b1d",
   "metadata": {},
   "outputs": [],
   "source": [
    "inventory_total = groceries.Inventory.sum()"
   ]
  },
  {
   "cell_type": "code",
   "execution_count": 145,
   "id": "0a325187",
   "metadata": {},
   "outputs": [],
   "source": [
    "groceries['percentage inventory'] = round((groceries.Inventory / inventory_total) * 100, 2)"
   ]
  },
  {
   "cell_type": "code",
   "execution_count": 146,
   "id": "24a0d78c",
   "metadata": {},
   "outputs": [
    {
     "data": {
      "text/html": [
       "<div>\n",
       "<style scoped>\n",
       "    .dataframe tbody tr th:only-of-type {\n",
       "        vertical-align: middle;\n",
       "    }\n",
       "\n",
       "    .dataframe tbody tr th {\n",
       "        vertical-align: top;\n",
       "    }\n",
       "\n",
       "    .dataframe thead th {\n",
       "        text-align: right;\n",
       "    }\n",
       "</style>\n",
       "<table border=\"1\" class=\"dataframe\">\n",
       "  <thead>\n",
       "    <tr style=\"text-align: right;\">\n",
       "      <th></th>\n",
       "      <th>Product_ID</th>\n",
       "      <th>Category</th>\n",
       "      <th>Item</th>\n",
       "      <th>Price_Dollars</th>\n",
       "      <th>Inventory</th>\n",
       "      <th>Last_Updated</th>\n",
       "      <th>Next_Scheduled_Shipment</th>\n",
       "      <th>update_price</th>\n",
       "      <th>percentage inventory</th>\n",
       "    </tr>\n",
       "  </thead>\n",
       "  <tbody>\n",
       "    <tr>\n",
       "      <th>0</th>\n",
       "      <td>P100010</td>\n",
       "      <td>Produce: Fruit</td>\n",
       "      <td>Apple</td>\n",
       "      <td>1.50</td>\n",
       "      <td>349</td>\n",
       "      <td>2023-06-12 15:35:00</td>\n",
       "      <td>2023-06-15</td>\n",
       "      <td>1.58</td>\n",
       "      <td>7.19</td>\n",
       "    </tr>\n",
       "    <tr>\n",
       "      <th>1</th>\n",
       "      <td>P100011</td>\n",
       "      <td>Produce: Fruit</td>\n",
       "      <td>Banana</td>\n",
       "      <td>0.40</td>\n",
       "      <td>500</td>\n",
       "      <td>2023-06-12 18:30:00</td>\n",
       "      <td>2023-06-15</td>\n",
       "      <td>0.42</td>\n",
       "      <td>10.29</td>\n",
       "    </tr>\n",
       "    <tr>\n",
       "      <th>2</th>\n",
       "      <td>P100012</td>\n",
       "      <td>Produce: Fruit</td>\n",
       "      <td>Grapes</td>\n",
       "      <td>4.00</td>\n",
       "      <td>200</td>\n",
       "      <td>2023-06-12 17:22:00</td>\n",
       "      <td>2023-06-15</td>\n",
       "      <td>4.20</td>\n",
       "      <td>4.12</td>\n",
       "    </tr>\n",
       "    <tr>\n",
       "      <th>3</th>\n",
       "      <td>P100013</td>\n",
       "      <td>Produce: Fruit</td>\n",
       "      <td>Grapefruit</td>\n",
       "      <td>0.99</td>\n",
       "      <td>50</td>\n",
       "      <td>2023-06-12 16:29:00</td>\n",
       "      <td>2023-06-15</td>\n",
       "      <td>1.04</td>\n",
       "      <td>1.03</td>\n",
       "    </tr>\n",
       "    <tr>\n",
       "      <th>4</th>\n",
       "      <td>P100014</td>\n",
       "      <td>Produce: Fruit</td>\n",
       "      <td>Organic Strawberries</td>\n",
       "      <td>3.99</td>\n",
       "      <td>148</td>\n",
       "      <td>2023-06-12 18:10:00</td>\n",
       "      <td>2023-06-15</td>\n",
       "      <td>4.19</td>\n",
       "      <td>3.05</td>\n",
       "    </tr>\n",
       "  </tbody>\n",
       "</table>\n",
       "</div>"
      ],
      "text/plain": [
       "  Product_ID        Category                  Item  Price_Dollars  Inventory  \\\n",
       "0    P100010  Produce: Fruit                 Apple           1.50        349   \n",
       "1    P100011  Produce: Fruit                Banana           0.40        500   \n",
       "2    P100012  Produce: Fruit                Grapes           4.00        200   \n",
       "3    P100013  Produce: Fruit            Grapefruit           0.99         50   \n",
       "4    P100014  Produce: Fruit  Organic Strawberries           3.99        148   \n",
       "\n",
       "         Last_Updated Next_Scheduled_Shipment  update_price  \\\n",
       "0 2023-06-12 15:35:00              2023-06-15          1.58   \n",
       "1 2023-06-12 18:30:00              2023-06-15          0.42   \n",
       "2 2023-06-12 17:22:00              2023-06-15          4.20   \n",
       "3 2023-06-12 16:29:00              2023-06-15          1.04   \n",
       "4 2023-06-12 18:10:00              2023-06-15          4.19   \n",
       "\n",
       "   percentage inventory  \n",
       "0                  7.19  \n",
       "1                 10.29  \n",
       "2                  4.12  \n",
       "3                  1.03  \n",
       "4                  3.05  "
      ]
     },
     "execution_count": 146,
     "metadata": {},
     "output_type": "execute_result"
    }
   ],
   "source": [
    "groceries.head()"
   ]
  },
  {
   "cell_type": "code",
   "execution_count": 152,
   "id": "2e9d9b1d",
   "metadata": {},
   "outputs": [],
   "source": [
    "groceries['Inventory Flag'] = np.where(groceries.Inventory < 50, 'Low Inventory', '')"
   ]
  },
  {
   "cell_type": "code",
   "execution_count": 153,
   "id": "613e3848",
   "metadata": {},
   "outputs": [
    {
     "ename": "KeyError",
     "evalue": "'Inventory Flag'",
     "output_type": "error",
     "traceback": [
      "\u001b[1;31m---------------------------------------------------------------------------\u001b[0m",
      "\u001b[1;31mKeyError\u001b[0m                                  Traceback (most recent call last)",
      "File \u001b[1;32m~\\AppData\\Local\\anaconda3\\Lib\\site-packages\\pandas\\core\\indexes\\base.py:3802\u001b[0m, in \u001b[0;36mIndex.get_loc\u001b[1;34m(self, key, method, tolerance)\u001b[0m\n\u001b[0;32m   3801\u001b[0m \u001b[38;5;28;01mtry\u001b[39;00m:\n\u001b[1;32m-> 3802\u001b[0m     \u001b[38;5;28;01mreturn\u001b[39;00m \u001b[38;5;28mself\u001b[39m\u001b[38;5;241m.\u001b[39m_engine\u001b[38;5;241m.\u001b[39mget_loc(casted_key)\n\u001b[0;32m   3803\u001b[0m \u001b[38;5;28;01mexcept\u001b[39;00m \u001b[38;5;167;01mKeyError\u001b[39;00m \u001b[38;5;28;01mas\u001b[39;00m err:\n",
      "File \u001b[1;32m~\\AppData\\Local\\anaconda3\\Lib\\site-packages\\pandas\\_libs\\index.pyx:138\u001b[0m, in \u001b[0;36mpandas._libs.index.IndexEngine.get_loc\u001b[1;34m()\u001b[0m\n",
      "File \u001b[1;32m~\\AppData\\Local\\anaconda3\\Lib\\site-packages\\pandas\\_libs\\index.pyx:165\u001b[0m, in \u001b[0;36mpandas._libs.index.IndexEngine.get_loc\u001b[1;34m()\u001b[0m\n",
      "File \u001b[1;32mpandas\\_libs\\hashtable_class_helper.pxi:5745\u001b[0m, in \u001b[0;36mpandas._libs.hashtable.PyObjectHashTable.get_item\u001b[1;34m()\u001b[0m\n",
      "File \u001b[1;32mpandas\\_libs\\hashtable_class_helper.pxi:5753\u001b[0m, in \u001b[0;36mpandas._libs.hashtable.PyObjectHashTable.get_item\u001b[1;34m()\u001b[0m\n",
      "\u001b[1;31mKeyError\u001b[0m: 'Inventory Flag'",
      "\nThe above exception was the direct cause of the following exception:\n",
      "\u001b[1;31mKeyError\u001b[0m                                  Traceback (most recent call last)",
      "Cell \u001b[1;32mIn[153], line 1\u001b[0m\n\u001b[1;32m----> 1\u001b[0m df[df[\u001b[38;5;124m\"\u001b[39m\u001b[38;5;124mInventory Flag\u001b[39m\u001b[38;5;124m\"\u001b[39m] \u001b[38;5;241m==\u001b[39m \u001b[38;5;124m\"\u001b[39m\u001b[38;5;124mLow Inventory\u001b[39m\u001b[38;5;124m\"\u001b[39m]\n",
      "File \u001b[1;32m~\\AppData\\Local\\anaconda3\\Lib\\site-packages\\pandas\\core\\frame.py:3807\u001b[0m, in \u001b[0;36mDataFrame.__getitem__\u001b[1;34m(self, key)\u001b[0m\n\u001b[0;32m   3805\u001b[0m \u001b[38;5;28;01mif\u001b[39;00m \u001b[38;5;28mself\u001b[39m\u001b[38;5;241m.\u001b[39mcolumns\u001b[38;5;241m.\u001b[39mnlevels \u001b[38;5;241m>\u001b[39m \u001b[38;5;241m1\u001b[39m:\n\u001b[0;32m   3806\u001b[0m     \u001b[38;5;28;01mreturn\u001b[39;00m \u001b[38;5;28mself\u001b[39m\u001b[38;5;241m.\u001b[39m_getitem_multilevel(key)\n\u001b[1;32m-> 3807\u001b[0m indexer \u001b[38;5;241m=\u001b[39m \u001b[38;5;28mself\u001b[39m\u001b[38;5;241m.\u001b[39mcolumns\u001b[38;5;241m.\u001b[39mget_loc(key)\n\u001b[0;32m   3808\u001b[0m \u001b[38;5;28;01mif\u001b[39;00m is_integer(indexer):\n\u001b[0;32m   3809\u001b[0m     indexer \u001b[38;5;241m=\u001b[39m [indexer]\n",
      "File \u001b[1;32m~\\AppData\\Local\\anaconda3\\Lib\\site-packages\\pandas\\core\\indexes\\base.py:3804\u001b[0m, in \u001b[0;36mIndex.get_loc\u001b[1;34m(self, key, method, tolerance)\u001b[0m\n\u001b[0;32m   3802\u001b[0m     \u001b[38;5;28;01mreturn\u001b[39;00m \u001b[38;5;28mself\u001b[39m\u001b[38;5;241m.\u001b[39m_engine\u001b[38;5;241m.\u001b[39mget_loc(casted_key)\n\u001b[0;32m   3803\u001b[0m \u001b[38;5;28;01mexcept\u001b[39;00m \u001b[38;5;167;01mKeyError\u001b[39;00m \u001b[38;5;28;01mas\u001b[39;00m err:\n\u001b[1;32m-> 3804\u001b[0m     \u001b[38;5;28;01mraise\u001b[39;00m \u001b[38;5;167;01mKeyError\u001b[39;00m(key) \u001b[38;5;28;01mfrom\u001b[39;00m \u001b[38;5;21;01merr\u001b[39;00m\n\u001b[0;32m   3805\u001b[0m \u001b[38;5;28;01mexcept\u001b[39;00m \u001b[38;5;167;01mTypeError\u001b[39;00m:\n\u001b[0;32m   3806\u001b[0m     \u001b[38;5;66;03m# If we have a listlike key, _check_indexing_error will raise\u001b[39;00m\n\u001b[0;32m   3807\u001b[0m     \u001b[38;5;66;03m#  InvalidIndexError. Otherwise we fall through and re-raise\u001b[39;00m\n\u001b[0;32m   3808\u001b[0m     \u001b[38;5;66;03m#  the TypeError.\u001b[39;00m\n\u001b[0;32m   3809\u001b[0m     \u001b[38;5;28mself\u001b[39m\u001b[38;5;241m.\u001b[39m_check_indexing_error(key)\n",
      "\u001b[1;31mKeyError\u001b[0m: 'Inventory Flag'"
     ]
    }
   ],
   "source": [
    "df[df[\"Inventory Flag\"] == \"Low Inventory\"]"
   ]
  },
  {
   "cell_type": "code",
   "execution_count": null,
   "id": "cd7d7f63",
   "metadata": {},
   "outputs": [],
   "source": []
  }
 ],
 "metadata": {
  "kernelspec": {
   "display_name": "Python 3 (ipykernel)",
   "language": "python",
   "name": "python3"
  },
  "language_info": {
   "codemirror_mode": {
    "name": "ipython",
    "version": 3
   },
   "file_extension": ".py",
   "mimetype": "text/x-python",
   "name": "python",
   "nbconvert_exporter": "python",
   "pygments_lexer": "ipython3",
   "version": "3.11.4"
  }
 },
 "nbformat": 4,
 "nbformat_minor": 5
}
